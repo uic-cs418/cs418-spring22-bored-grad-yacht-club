{
 "cells": [
  {
   "cell_type": "markdown",
   "id": "3e96c638",
   "metadata": {},
   "source": [
    "# Final Report: Modelling The Pandemic by Bored Grads Yacht Club"
   ]
  },
  {
   "cell_type": "markdown",
   "id": "88a639f3",
   "metadata": {},
   "source": [
    "## 1. Introduction"
    "Our data science term project aims to model the impact of COVID-19 in Chicago areas, using sociodemographic data (age, income, education etc.) and COVID-19 statistics (hospitalizations, deaths etc.). The sociodemographic and COVID-19 data used here is for each ZIP code within Chicago. An existing COVID-19 model, the CCVI score, ranks neighborhoods in Chicago by vulnerability based on several sociodemographic factors, and develops an overall vulnerability score for each neighborhood based on these rankings. An issue with this ranking system is that the difference in factors is not accurately reflected by a difference in ranks; for example, two neighborhoods could have a relatively big difference in income but only be a rank apart, and vice versa (relatively small difference in income and a rank apart). The ranking-based score would normalize all differences in sociodemographic factors when calculating the vulnerability score, which could be a potential issue when deciding on how to accurately and precisely distribute resources to areas based on their COVID-19 vulnerability. Our model seeks to improve upon the CCVI score by assessing areas in a more absolute way, such that it can predict COVID-19 risk of an area in terms of cases, hospitalizations or deaths, given the sociodemographic factors of that area. We chose to develop the model for Chicago both because of our proximity to the city, and because Chicago has been a big COVID-19 hotspot in America during the last two years. Being a big, densely populated city, Chicago has had 567,470 COVID-19 cases, 41,694 hospitalizations and 7,635 deaths as of today. Despite these high numbers, the impact of COVID-19 has been unevenly distributed over the city of Chicago, and is primarily dictated by the sociodemographic factors that we are inspecting in our project. Since our model aims to predict COVID-19 impact from sociodemographic data, it can potentially help organizations distribute resources, healthcare and vaccination efforts in the city more accurately, as well as help policy-makers understand how the pandemic impact is affected by disparities in the city, and plan accordingly in the future to remedy this."

   ]
  },
  {
   "cell_type": "markdown",
   "id": "be4625e9",
   "metadata": {},
   "source": [
    "## 2. Data\n",
    "Please submit your cleaned data or, if it’s too large, a reference to the original data as well as the scripts you used to clean it. "
   ]
  },
  {
   "cell_type": "markdown",
   "id": "ba960771",
   "metadata": {},
   "source": [
    "## 3. EDA/Visualization\n",
    "Provide at least two distinct visualizations of your data or final results. This means two different techniques. If you use bar charts to analyze one aspect of your data, while you may use bar charts again, the second use will not count as a distinct visualization"
   ]
  },
  {
   "cell_type": "markdown",
   "id": "d1367554",
   "metadata": {},
   "source": [
    "## 4. ML/Stats\n",
    "Use at least two machine learning or statistical analysis techniques to analyze your data, explain what you did, and talk about the inferences you uncovered. "
   ]
  },
  {
   "cell_type": "markdown",
   "id": "229fd47e",
   "metadata": {},
   "source": [
    "## 5. Results\n",
    "Fully explain and analyze the results from your data, i.e. the inferences or correlations you uncovered, the tools you built, or the visualizations you created. "
   ]
  },
  {
   "cell_type": "markdown",
   "id": "bacf602e",
   "metadata": {},
   "source": [
    "## 6. Additional work\n",
    " In addition to the requirements in the ML and visualization sections above, we would like to see at least one extra from either category. That means a total of five deliverables."
   ]
  }
 ],
 "metadata": {
  "kernelspec": {
   "display_name": "Python 3 (ipykernel)",
   "language": "python",
   "name": "python3"
  },
  "language_info": {
   "codemirror_mode": {
    "name": "ipython",
    "version": 3
   },
   "file_extension": ".py",
   "mimetype": "text/x-python",
   "name": "python",
   "nbconvert_exporter": "python",
   "pygments_lexer": "ipython3",
   "version": "3.9.12"
  }
 },
 "nbformat": 4,
 "nbformat_minor": 5
}
