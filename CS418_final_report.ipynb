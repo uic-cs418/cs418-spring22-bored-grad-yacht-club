{
 "cells": [
  {
   "cell_type": "markdown",
   "id": "3e96c638",
   "metadata": {},
   "source": [
    "# Final Report: Modelling The Pandemic by Bored Grads Yacht Club"
   ]
  },
  {
   "cell_type": "markdown",
   "id": "88a639f3",
   "metadata": {},
   "source": [
    "## 1. Introduction"
   ]
  },
  {
   "cell_type": "markdown",
   "id": "be4625e9",
   "metadata": {},
   "source": [
    "## 2. Data\n",
    "Please submit your cleaned data or, if it’s too large, a reference to the original data as well as the scripts you used to clean it. "
   ]
  },
  {
   "cell_type": "markdown",
   "id": "ba960771",
   "metadata": {},
   "source": [
    "## 3. EDA/Visualization\n",
    "Provide at least two distinct visualizations of your data or final results. This means two different techniques. If you use bar charts to analyze one aspect of your data, while you may use bar charts again, the second use will not count as a distinct visualization"
   ]
  },
  {
   "cell_type": "markdown",
   "id": "d1367554",
   "metadata": {},
   "source": [
    "## 4. ML/Stats\n"
   ]
  },
  {
   "cell_type": "markdown",
   "id": "229fd47e",
   "metadata": {},
   "source": [
    "## 5. Results\n",
    "Fully explain and analyze the results from your data, i.e. the inferences or correlations you uncovered, the tools you built, or the visualizations you created. "
   ]
  },
  {
   "cell_type": "markdown",
   "id": "bacf602e",
   "metadata": {},
   "source": [
    "## 6. Additional work\n",
    " In addition to the requirements in the ML and visualization sections above, we would like to see at least one extra from either category. That means a total of five deliverables."
   ]
  }
 ],
 "metadata": {
  "kernelspec": {
   "display_name": "Python 3 (ipykernel)",
   "language": "python",
   "name": "python3"
  },
  "language_info": {
   "codemirror_mode": {
    "name": "ipython",
    "version": 3
   },
   "file_extension": ".py",
   "mimetype": "text/x-python",
   "name": "python",
   "nbconvert_exporter": "python",
   "pygments_lexer": "ipython3",
   "version": "3.9.7"
  }
 },
 "nbformat": 4,
 "nbformat_minor": 5
}
