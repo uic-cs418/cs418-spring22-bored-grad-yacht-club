{
 "cells": [
  {
   "cell_type": "markdown",
   "id": "01d2c7fc",
   "metadata": {},
   "source": [
    "# Progress report"
   ]
  },
  {
   "cell_type": "markdown",
   "id": "44cc354f",
   "metadata": {},
   "source": [
    "## 1. Project introduction: \n",
    "an introduction that discusses the data you are analyzing, and the question or questions you are investigating."
   ]
  },
  {
   "cell_type": "code",
   "execution_count": null,
   "id": "07ad4bdd",
   "metadata": {},
   "outputs": [],
   "source": []
  },
  {
   "cell_type": "markdown",
   "id": "7b8ed827",
   "metadata": {},
   "source": [
    "## 2. Any changes\n",
    " a discussion whether your scope has changed since the check-in proposal slides. What did you aim to do that you will not do and what have you added to the project?"
   ]
  },
  {
   "cell_type": "code",
   "execution_count": null,
   "id": "f48c757f",
   "metadata": {},
   "outputs": [],
   "source": []
  },
  {
   "cell_type": "markdown",
   "id": "f394d37a",
   "metadata": {},
   "source": [
    "## 3. Data cleaning: \n",
    "show clearly how you cleaned your data. "
   ]
  },
  {
   "cell_type": "code",
   "execution_count": null,
   "id": "54dbaf18",
   "metadata": {},
   "outputs": [],
   "source": []
  },
  {
   "cell_type": "markdown",
   "id": "d3dd967b",
   "metadata": {},
   "source": [
    "## 4. Exploratory data analysis: \n",
    "explain what your data looks like (words are fine, but visualizations are often better). Include any interesting issues or preliminary conclusions you have about your data. "
   ]
  },
  {
   "cell_type": "code",
   "execution_count": null,
   "id": "dc0406d6",
   "metadata": {},
   "outputs": [],
   "source": []
  },
  {
   "cell_type": "markdown",
   "id": "c385b75a",
   "metadata": {},
   "source": [
    "## 5. At least one visualization \n",
    "that tests an interesting hypothesis, along with an explanation about why you thought this was an interesting hypothesis to investigate.  "
   ]
  },
  {
   "cell_type": "code",
   "execution_count": null,
   "id": "2fa32cdc",
   "metadata": {},
   "outputs": [],
   "source": []
  },
  {
   "cell_type": "markdown",
   "id": "05161e19",
   "metadata": {},
   "source": [
    "## 6. At least one ML analysis\n",
    "on your dataset, along with a baseline comparison and an interpretation of the result that you obtain. "
   ]
  },
  {
   "cell_type": "code",
   "execution_count": null,
   "id": "4b46be69",
   "metadata": {},
   "outputs": [],
   "source": []
  },
  {
   "cell_type": "markdown",
   "id": "673c4eab",
   "metadata": {},
   "source": [
    "## 7. Reflection: \n",
    "a discussion of the following: \n",
    "    o What is hardest part of the project that you’ve encountered so far? \n",
    "    o What are your initial insights? \n",
    "    o Are there any concrete results you can show at this point? If not, why not? \n",
    "    o Going forward, what are the current biggest problems you’re facing? \n",
    "    o Do you think you are on track with your project? If not, what parts do you need to dedicate more time to? \n",
    "    o Given your initial exploration of the data, is it worth proceeding with your project, why? If not, how are you going to change your project and why do you think it’s better than your current results? "
   ]
  },
  {
   "cell_type": "code",
   "execution_count": null,
   "id": "c5f383d9",
   "metadata": {},
   "outputs": [],
   "source": []
  },
  {
   "cell_type": "markdown",
   "id": "d79e7d14",
   "metadata": {},
   "source": [
    "## 8. Next steps: \n",
    "What you plan to accomplish in the next month and how you plan to evaluate whether your project achieved the goals you set for it. "
   ]
  },
  {
   "cell_type": "code",
   "execution_count": null,
   "id": "89594579",
   "metadata": {},
   "outputs": [],
   "source": []
  }
 ],
 "metadata": {
  "kernelspec": {
   "display_name": "Python 3 (ipykernel)",
   "language": "python",
   "name": "python3"
  },
  "language_info": {
   "codemirror_mode": {
    "name": "ipython",
    "version": 3
   },
   "file_extension": ".py",
   "mimetype": "text/x-python",
   "name": "python",
   "nbconvert_exporter": "python",
   "pygments_lexer": "ipython3",
   "version": "3.9.12"
  }
 },
 "nbformat": 4,
 "nbformat_minor": 5
}
