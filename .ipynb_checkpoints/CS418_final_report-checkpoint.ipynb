{
 "cells": [
  {
   "cell_type": "markdown",
   "id": "3e96c638",
   "metadata": {},
   "source": [
    "## 1. Data\n",
    "Please submit your cleaned data or, if it’s too large, a reference to the original data as well as the scripts you used to clean it. "
   ]
  },
  {
   "cell_type": "markdown",
   "id": "ba960771",
   "metadata": {},
   "source": [
    "## 2. ML/Stats\n",
    "Use at least two machine learning or statistical analysis techniques to analyze your data, explain what you did, and talk about the inferences you uncovered. "
   ]
  },
  {
   "cell_type": "markdown",
   "id": "d1367554",
   "metadata": {},
   "source": [
    "## 3. Visualization\n",
    "Provide at least two distinct visualizations of your data or final results. This means two different techniques. If you use bar charts to analyze one aspect of your data, while you may use bar charts again, the second use will not count as a distinct visualization"
   ]
  },
  {
   "cell_type": "markdown",
   "id": "229fd47e",
   "metadata": {},
   "source": [
    "## 4. Additional work\n",
    "In addition to the requirements in the ML and visualization sections above, we would like to see at least one extra from either category. That means a total of five deliverables. "
   ]
  },
  {
   "cell_type": "markdown",
   "id": "bacf602e",
   "metadata": {},
   "source": [
    "## 5. Results\n",
    "Fully explain and analyze the results from your data, i.e. the inferences or correlations you uncovered, the tools you built, or the visualizations you created. "
   ]
  }
 ],
 "metadata": {
  "kernelspec": {
   "display_name": "Python 3 (ipykernel)",
   "language": "python",
   "name": "python3"
  },
  "language_info": {
   "codemirror_mode": {
    "name": "ipython",
    "version": 3
   },
   "file_extension": ".py",
   "mimetype": "text/x-python",
   "name": "python",
   "nbconvert_exporter": "python",
   "pygments_lexer": "ipython3",
   "version": "3.9.12"
  }
 },
 "nbformat": 4,
 "nbformat_minor": 5
}
