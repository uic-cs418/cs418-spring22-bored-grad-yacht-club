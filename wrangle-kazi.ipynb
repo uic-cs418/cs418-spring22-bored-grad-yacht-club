{
 "cells": [
  {
   "cell_type": "code",
   "execution_count": 6,
   "metadata": {},
   "outputs": [],
   "source": [
    "import pandas as pd\n",
    "import re\n",
    "import requests\n",
    "from bs4 import BeautifulSoup"
   ]
  },
  {
   "cell_type": "code",
   "execution_count": 7,
   "metadata": {},
   "outputs": [],
   "source": [
    "soc = pd.read_csv(\"Data/Sociodemographic Data/CMAP/ReferenceCCAProfiles20152019.csv\")\n",
    "covid = pd.read_csv(\"Data/Covid Data/Medical_Examiner_Case_Archive_-_COVID-19_Related_Deaths.csv\")\n",
    "zip = pd.read_csv(\"Data/Zip_Codes.csv\")"
   ]
  },
  {
   "cell_type": "code",
   "execution_count": 8,
   "metadata": {},
   "outputs": [],
   "source": [
    "zipcodes = zip.ZIP.to_list()\n",
    "zipcodes.remove(60666) #OHare Airport!!\n",
    "covid = covid[covid['Residence Zip'].notna()]\n",
    "sep = '-'\n",
    "covid['Residence Zip'] = covid['Residence Zip'].apply(lambda x: x.split(sep, 1)[0])\n",
    "covid['Residence Zip'] = covid['Residence Zip'].astype(str).astype(int)\n",
    "covid = covid[covid['Residence Zip'].isin(zipcodes)]"
   ]
  },
  {
   "cell_type": "code",
   "execution_count": 9,
   "metadata": {},
   "outputs": [],
   "source": [
    "source = requests.get('https://censusreporter.org/profiles/86000US60612-60612/').text\n",
    "\n",
    "soup = BeautifulSoup(source, 'lxml')\n",
    "\n",
    "s = soup.findAll('script',type=\"text/javascript\")[1].getText()"
   ]
  },
  {
   "cell_type": "code",
   "execution_count": 10,
   "metadata": {},
   "outputs": [],
   "source": [
    "def scrape(z):\n",
    "    z = str(z)\n",
    "    \n",
    "    source = requests.get('https://censusreporter.org/profiles/86000US{zip}-{zip}/'.format(zip=z)).text\n",
    "\n",
    "    soup = BeautifulSoup(source, 'lxml')\n",
    "\n",
    "    s = soup.findAll('script',type=\"text/javascript\")[1].getText()\n",
    "    \n",
    "    return s"
   ]
  },
  {
   "cell_type": "code",
   "execution_count": 11,
   "metadata": {},
   "outputs": [],
   "source": [
    "def parse(param,sp):\n",
    "    param = '\"'+param+'\", '\n",
    "    try:\n",
    "        var = float(re.findall(param+'\"values\": {\"this\":\\s*([+-]?[0-9]+\\.[0-9]+)',sp)[0])\n",
    "    except:\n",
    "        #print(param)\n",
    "        var = 0\n",
    "    \n",
    "    return var"
   ]
  },
  {
   "cell_type": "code",
   "execution_count": 12,
   "metadata": {},
   "outputs": [],
   "source": [
    "def getSocioDem():\n",
    "    df = pd.DataFrame(columns = [ 'Zipcode', 'Population', 'Median age', 'Under 18(%)', '18 to 64(%)', '65 and over(%)', 'Male(%)', 'Female(%)', 'White(%)', \"Black(%)\", \"Native(%)\", \"Asian(%)\", \"Islander(%)\", \"Two plus(%)\", \"Hispanic(%)\", \"Per capita income (USD)\", \"Median household income (USD)\", \"Below poverty line(%)\",\n",
    "                                  'Mean travel time to work (Minutes)', 'Drove Alone (%)', 'Carpooled (%)', 'Public Transit (%)', 'Bicycle (%)', 'Walked (%)', 'Other (%)', 'Worked at home (%)', 'Number of households', 'Persons per household', 'Married (%)', 'Single (%)',\n",
    "                                  'Number of housing units', 'Occupied housing (%)', 'Vacant housing (%)', 'Owner Occupied (%)', 'Renter Occupied (%)', 'Median housing value',\n",
    "                                  'Moved Since Prev Year(%)', 'Same House Prev Year(%)', 'No Degree(%)', 'High School(%)', 'Some College(%)', \"Bachelor's(%)\", \"Post-grad(%)\", 'Foriegn Born Population(%)', 'Europe(%)', 'Asia(%)', 'Africa(%)', 'Oceania(%)', 'Latin America(%)', 'North America(%)'],\n",
    "                                  index = list(range(0,60)))\n",
    "\n",
    "    i = 0\n",
    "    for zip in zipcodes:\n",
    "        s = scrape(zip)\n",
    "\n",
    "        var = '\"full_geoid\": \"86000US{z}\", \"total_population\":'.format(z=str(zip))\n",
    "        population = int(re.findall(var+'\\s*([+-]?[0-9]+)',s)[0])\n",
    "        \n",
    "        median_age = parse(\"Median age\",s)\n",
    "        percent_under18 = parse(\"Under 18\",s)\n",
    "        percent_18to64 = parse(\"18 to 64\",s)\n",
    "        percent_65andOver = parse(\"65 and over\",s)\n",
    "\n",
    "        percent_male = parse(\"Male\",s)\n",
    "        percent_female = parse(\"Female\",s)\n",
    "\n",
    "        percent_white = parse(\"White\",s)\n",
    "        percent_black = parse(\"Black\",s)\n",
    "        percent_native = parse(\"Native\",s)\n",
    "        percent_asian = parse(\"Asian\",s)\n",
    "        percent_islander = parse(\"Islander\",s)\n",
    "        pecent_two_plus = parse(\"Two\\+\",s)\n",
    "        percent_hispanic = parse(\"Hispanic\",s)\n",
    "\n",
    "        per_capita = parse(\"Per capita income\", s)\n",
    "        median_household_income = parse(\"Median household income\",s)\n",
    "\n",
    "        percent_below_poverty = parse(\"Persons below poverty line\",s)\n",
    "\n",
    "        mean_travel_time = parse(\"Mean travel time to work\",s)\n",
    "        drove_alone = parse(\"Drove alone\",s)\n",
    "        carpooled = parse(\"Carpooled\",s)\n",
    "        public_transit = parse(\"Public transit\",s)\n",
    "        bicycle = parse(\"Bicycle\",s)\n",
    "        walked = parse(\"Walked\",s)\n",
    "        other = parse(\"Other\",s)\n",
    "        worked_at_home = parse(\"Worked at home\",s)\n",
    "\n",
    "        number_of_households = parse(\"Number of households\",s)\n",
    "        persons_per_household = parse(\"Persons per household\",s)\n",
    "\n",
    "        married = parse(\"Married\",s)\n",
    "        single = parse(\"Single\",s)\n",
    "\n",
    "        number_of_housing_units = parse(\"Number of housing units\",s)\n",
    "        occupied_housing_units = parse(\"Occupied\",s)\n",
    "        vacant_housing_units = parse(\"Vacant\",s)\n",
    "        owner_housing_units = parse(\"Owner occupied\",s)\n",
    "        renter_housing_units = parse(\"Renter occupied\",s)\n",
    "\n",
    "        median_value_owner_occupied = parse(\"Median value of owner-occupied housing units\",s)\n",
    "\n",
    "        moved_since_previous_year = parse(\"Moved since previous year\",s)\n",
    "        same_house_year_ago = parse(\"Same house year ago\",s)\n",
    "\n",
    "        no_degree = parse(\"No degree\",s)\n",
    "        high_school = parse(\"High school\",s)\n",
    "        some_college = parse(\"Some college\",s)\n",
    "        bachelors = parse(\"Bachelor's\",s)\n",
    "        post_grad = parse(\"Post-grad\",s)\n",
    "\n",
    "        foriegn_born_pop = parse(\"Foreign-born population\",s)\n",
    "        europe = parse('Europe',s)\n",
    "        asia = parse('Asia',s)\n",
    "        africa = parse('Africa',s)\n",
    "        oceania = parse('Oceania',s)\n",
    "        latin_america = parse('Latin America',s)\n",
    "        north_america = parse('North America',s)\n",
    "        \n",
    "        df.iloc[i] = [zip, population, median_age, percent_under18, percent_18to64, percent_65andOver, percent_male, percent_female, percent_white, percent_black, percent_native, percent_asian, percent_islander, pecent_two_plus, percent_hispanic, per_capita, median_household_income, percent_below_poverty, mean_travel_time,\n",
    "        drove_alone, carpooled, public_transit, bicycle, walked, other, worked_at_home, number_of_households, persons_per_household, married, single, number_of_housing_units, occupied_housing_units, vacant_housing_units, owner_housing_units, renter_housing_units,\n",
    "        median_value_owner_occupied, moved_since_previous_year, same_house_year_ago, no_degree, high_school, some_college, bachelors, post_grad, foriegn_born_pop, europe, asia, africa, oceania, latin_america, north_america]\n",
    "\n",
    "        i+=1\n",
    "    \n",
    "    return df\n",
    "    "
   ]
  },
  {
   "cell_type": "code",
   "execution_count": 14,
   "metadata": {},
   "outputs": [],
   "source": [
    "file = getSocioDem()\n",
    "file.to_csv('Chicago Sociodemographics Zipcode.csv',index=False)"
   ]
  }
 ],
 "metadata": {
  "interpreter": {
   "hash": "c8f4e51c906baa81f88658bccb1869f50612ba7aa99688014331147fdb35efe7"
  },
  "kernelspec": {
   "display_name": "Python 3.8.12 ('base')",
   "language": "python",
   "name": "python3"
  },
  "language_info": {
   "codemirror_mode": {
    "name": "ipython",
    "version": 3
   },
   "file_extension": ".py",
   "mimetype": "text/x-python",
   "name": "python",
   "nbconvert_exporter": "python",
   "pygments_lexer": "ipython3",
   "version": "3.8.12"
  },
  "orig_nbformat": 4
 },
 "nbformat": 4,
 "nbformat_minor": 2
}
