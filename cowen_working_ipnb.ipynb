{
 "cells": [
  {
   "cell_type": "code",
   "execution_count": 17,
   "id": "93b24c2a",
   "metadata": {},
   "outputs": [],
   "source": [
    "import pandas as pd\n",
    "import numpy as np\n",
    "import seaborn as sns\n",
    "import matplotlib.pyplot as plt\n",
    "import sklearn\n"
   ]
  },
  {
   "cell_type": "code",
   "execution_count": 4,
   "id": "3668dedb",
   "metadata": {},
   "outputs": [],
   "source": [
    "data = pd.read_csv('Chicago-Covid-SocioDemographics-Cases-Deaths.csv')"
   ]
  },
  {
   "cell_type": "code",
   "execution_count": 6,
   "id": "510ff69f",
   "metadata": {
    "scrolled": false
   },
   "outputs": [
    {
     "data": {
      "text/html": [
       "<div>\n",
       "<style scoped>\n",
       "    .dataframe tbody tr th:only-of-type {\n",
       "        vertical-align: middle;\n",
       "    }\n",
       "\n",
       "    .dataframe tbody tr th {\n",
       "        vertical-align: top;\n",
       "    }\n",
       "\n",
       "    .dataframe thead th {\n",
       "        text-align: right;\n",
       "    }\n",
       "</style>\n",
       "<table border=\"1\" class=\"dataframe\">\n",
       "  <thead>\n",
       "    <tr style=\"text-align: right;\">\n",
       "      <th></th>\n",
       "      <th>Zipcode</th>\n",
       "      <th>Population</th>\n",
       "      <th>Median age</th>\n",
       "      <th>Under 18(%)</th>\n",
       "      <th>18 to 64(%)</th>\n",
       "      <th>65 and over(%)</th>\n",
       "      <th>Male(%)</th>\n",
       "      <th>Female(%)</th>\n",
       "      <th>White(%)</th>\n",
       "      <th>Black(%)</th>\n",
       "      <th>...</th>\n",
       "      <th>Europe(%)</th>\n",
       "      <th>Asia(%)</th>\n",
       "      <th>Africa(%)</th>\n",
       "      <th>Oceania(%)</th>\n",
       "      <th>Latin America(%)</th>\n",
       "      <th>North America(%)</th>\n",
       "      <th>Death Counts</th>\n",
       "      <th>Death Counts(Per 1000)</th>\n",
       "      <th>Case Counts</th>\n",
       "      <th>Case Counts(Per 1000)</th>\n",
       "    </tr>\n",
       "  </thead>\n",
       "  <tbody>\n",
       "    <tr>\n",
       "      <th>0</th>\n",
       "      <td>60647</td>\n",
       "      <td>85658</td>\n",
       "      <td>32.2</td>\n",
       "      <td>17.56</td>\n",
       "      <td>75.14</td>\n",
       "      <td>7.30</td>\n",
       "      <td>49.75</td>\n",
       "      <td>50.25</td>\n",
       "      <td>48.50</td>\n",
       "      <td>4.72</td>\n",
       "      <td>...</td>\n",
       "      <td>14.76</td>\n",
       "      <td>14.11</td>\n",
       "      <td>1.67</td>\n",
       "      <td>0.68</td>\n",
       "      <td>66.31</td>\n",
       "      <td>2.47</td>\n",
       "      <td>184</td>\n",
       "      <td>2.15</td>\n",
       "      <td>17196</td>\n",
       "      <td>200.75</td>\n",
       "    </tr>\n",
       "    <tr>\n",
       "      <th>1</th>\n",
       "      <td>60639</td>\n",
       "      <td>88515</td>\n",
       "      <td>34.6</td>\n",
       "      <td>26.29</td>\n",
       "      <td>62.24</td>\n",
       "      <td>11.47</td>\n",
       "      <td>49.90</td>\n",
       "      <td>50.10</td>\n",
       "      <td>8.07</td>\n",
       "      <td>13.24</td>\n",
       "      <td>...</td>\n",
       "      <td>4.69</td>\n",
       "      <td>2.99</td>\n",
       "      <td>0.61</td>\n",
       "      <td>0.00</td>\n",
       "      <td>91.67</td>\n",
       "      <td>0.03</td>\n",
       "      <td>278</td>\n",
       "      <td>3.14</td>\n",
       "      <td>24130</td>\n",
       "      <td>272.61</td>\n",
       "    </tr>\n",
       "    <tr>\n",
       "      <th>2</th>\n",
       "      <td>60707</td>\n",
       "      <td>42434</td>\n",
       "      <td>40.0</td>\n",
       "      <td>21.06</td>\n",
       "      <td>63.60</td>\n",
       "      <td>15.33</td>\n",
       "      <td>47.33</td>\n",
       "      <td>52.67</td>\n",
       "      <td>46.85</td>\n",
       "      <td>6.63</td>\n",
       "      <td>...</td>\n",
       "      <td>42.45</td>\n",
       "      <td>11.93</td>\n",
       "      <td>0.98</td>\n",
       "      <td>0.00</td>\n",
       "      <td>44.29</td>\n",
       "      <td>0.34</td>\n",
       "      <td>130</td>\n",
       "      <td>3.06</td>\n",
       "      <td>4235</td>\n",
       "      <td>99.80</td>\n",
       "    </tr>\n",
       "    <tr>\n",
       "      <th>3</th>\n",
       "      <td>60622</td>\n",
       "      <td>52957</td>\n",
       "      <td>32.2</td>\n",
       "      <td>13.41</td>\n",
       "      <td>79.84</td>\n",
       "      <td>6.75</td>\n",
       "      <td>50.64</td>\n",
       "      <td>49.36</td>\n",
       "      <td>64.44</td>\n",
       "      <td>5.35</td>\n",
       "      <td>...</td>\n",
       "      <td>38.17</td>\n",
       "      <td>19.04</td>\n",
       "      <td>1.60</td>\n",
       "      <td>0.50</td>\n",
       "      <td>38.03</td>\n",
       "      <td>2.65</td>\n",
       "      <td>89</td>\n",
       "      <td>1.68</td>\n",
       "      <td>11074</td>\n",
       "      <td>209.11</td>\n",
       "    </tr>\n",
       "    <tr>\n",
       "      <th>4</th>\n",
       "      <td>60651</td>\n",
       "      <td>63679</td>\n",
       "      <td>33.9</td>\n",
       "      <td>26.37</td>\n",
       "      <td>61.38</td>\n",
       "      <td>12.25</td>\n",
       "      <td>46.37</td>\n",
       "      <td>53.63</td>\n",
       "      <td>5.00</td>\n",
       "      <td>53.02</td>\n",
       "      <td>...</td>\n",
       "      <td>1.55</td>\n",
       "      <td>2.46</td>\n",
       "      <td>0.89</td>\n",
       "      <td>0.00</td>\n",
       "      <td>94.89</td>\n",
       "      <td>0.21</td>\n",
       "      <td>182</td>\n",
       "      <td>2.86</td>\n",
       "      <td>14030</td>\n",
       "      <td>220.32</td>\n",
       "    </tr>\n",
       "  </tbody>\n",
       "</table>\n",
       "<p>5 rows × 54 columns</p>\n",
       "</div>"
      ],
      "text/plain": [
       "   Zipcode  Population  Median age  Under 18(%)  18 to 64(%)  65 and over(%)  \\\n",
       "0    60647       85658        32.2        17.56        75.14            7.30   \n",
       "1    60639       88515        34.6        26.29        62.24           11.47   \n",
       "2    60707       42434        40.0        21.06        63.60           15.33   \n",
       "3    60622       52957        32.2        13.41        79.84            6.75   \n",
       "4    60651       63679        33.9        26.37        61.38           12.25   \n",
       "\n",
       "   Male(%)  Female(%)  White(%)  Black(%)  ...  Europe(%)  Asia(%)  Africa(%)  \\\n",
       "0    49.75      50.25     48.50      4.72  ...      14.76    14.11       1.67   \n",
       "1    49.90      50.10      8.07     13.24  ...       4.69     2.99       0.61   \n",
       "2    47.33      52.67     46.85      6.63  ...      42.45    11.93       0.98   \n",
       "3    50.64      49.36     64.44      5.35  ...      38.17    19.04       1.60   \n",
       "4    46.37      53.63      5.00     53.02  ...       1.55     2.46       0.89   \n",
       "\n",
       "   Oceania(%)  Latin America(%)  North America(%)  Death Counts  \\\n",
       "0        0.68             66.31              2.47           184   \n",
       "1        0.00             91.67              0.03           278   \n",
       "2        0.00             44.29              0.34           130   \n",
       "3        0.50             38.03              2.65            89   \n",
       "4        0.00             94.89              0.21           182   \n",
       "\n",
       "   Death Counts(Per 1000)  Case Counts  Case Counts(Per 1000)  \n",
       "0                    2.15        17196                 200.75  \n",
       "1                    3.14        24130                 272.61  \n",
       "2                    3.06         4235                  99.80  \n",
       "3                    1.68        11074                 209.11  \n",
       "4                    2.86        14030                 220.32  \n",
       "\n",
       "[5 rows x 54 columns]"
      ]
     },
     "execution_count": 6,
     "metadata": {},
     "output_type": "execute_result"
    }
   ],
   "source": [
    "data.head()"
   ]
  },
  {
   "cell_type": "code",
   "execution_count": 155,
   "id": "6d98a762",
   "metadata": {},
   "outputs": [
    {
     "name": "stdout",
     "output_type": "stream",
     "text": [
      "                                 index  Death Counts(Per 1000)\n",
      "20                    Latin America(%)                    0.50\n",
      "4                             Asian(%)                    0.51\n",
      "14                        No Degree(%)                    0.52\n",
      "8                      Drove Alone (%)                    0.52\n",
      "10               Persons per household                    0.53\n",
      "6        Median household income (USD)                    0.54\n",
      "3                             Black(%)                    0.54\n",
      "5              Per capita income (USD)                    0.58\n",
      "9                           Walked (%)                    0.58\n",
      "2                             White(%)                    0.59\n",
      "12            Moved Since Prev Year(%)                    0.59\n",
      "13             Same House Prev Year(%)                    0.59\n",
      "18                        Post-grad(%)                    0.63\n",
      "0                          Under 18(%)                    0.63\n",
      "19                             Asia(%)                    0.64\n",
      "11                Median housing value                    0.66\n",
      "1                          18 to 64(%)                    0.66\n",
      "16                     Some College(%)                    0.66\n",
      "15                      High School(%)                    0.69\n",
      "17                       Bachelor's(%)                    0.69\n",
      "7   Mean travel time to work (Minutes)                    0.73\n"
     ]
    }
   ],
   "source": [
    "cormat = data.corr().abs()\n",
    "cormat = cormat[cormat>0.5]\n",
    "feature_importance = round(cormat,2).dropna(subset=['Death Counts(Per 1000)'])['Death Counts(Per 1000)'].to_frame().reset_index()\n",
    "feature_importance = feature_importance[:-2]\n",
    "feature_importance = feature_importance.sort_values(by='Death Counts(Per 1000)')\n",
    "\n",
    "print(feature_importance)"
   ]
  },
  {
   "cell_type": "markdown",
   "id": "3ff2dd47",
   "metadata": {},
   "source": [
    "# Random Forest Analysis"
   ]
  },
  {
   "cell_type": "code",
   "execution_count": 333,
   "id": "7da90de4",
   "metadata": {},
   "outputs": [
    {
     "name": "stdout",
     "output_type": "stream",
     "text": [
      "['Population', 'Median age', 'Under 18(%)', '18 to 64(%)', '65 and over(%)', 'Male(%)', 'Female(%)', 'White(%)', 'Black(%)', 'Native(%)', 'Asian(%)', 'Islander(%)', 'Two plus(%)', 'Hispanic(%)', 'Per capita income (USD)', 'Median household income (USD)', 'Below poverty line(%)', 'Mean travel time to work (Minutes)', 'Drove Alone (%)', 'Carpooled (%)', 'Public Transit (%)', 'Bicycle (%)', 'Walked (%)', 'Other (%)', 'Worked at home (%)', 'Number of households', 'Persons per household', 'Married (%)', 'Single (%)', 'Number of housing units', 'Occupied housing (%)', 'Vacant housing (%)', 'Owner Occupied (%)', 'Renter Occupied (%)', 'Median housing value', 'Moved Since Prev Year(%)', 'Same House Prev Year(%)', 'No Degree(%)', 'High School(%)', 'Some College(%)', \"Bachelor's(%)\", 'Post-grad(%)', 'Foriegn Born Population(%)', 'Europe(%)', 'Asia(%)', 'Africa(%)', 'Oceania(%)', 'Latin America(%)', 'North America(%)']\n"
     ]
    }
   ],
   "source": [
    "data_input = data.iloc[:,:-5]\n",
    "data_input = data_input.set_index('Zipcode')\n",
    "features = np.array(data_input)\n",
    "feature_list = list(data_input.columns)\n",
    "\n",
    "#print(data_input.head())\n",
    "#print(features[0:10,:])\n",
    "print(feature_list)"
   ]
  },
  {
   "cell_type": "code",
   "execution_count": 334,
   "id": "68ea7805",
   "metadata": {},
   "outputs": [
    {
     "data": {
      "text/plain": [
       "array([2.15, 3.14, 3.06, 1.68, 2.86, 0.83, 2.87, 3.03, 3.74, 1.6 , 5.09,\n",
       "       2.98, 3.66, 2.15, 2.64, 1.52, 4.02, 3.37, 4.78, 3.04, 2.55, 0.71,\n",
       "       4.76, 5.25, 2.7 , 1.81, 3.23, 2.74, 2.85, 2.35, 4.22, 1.73, 0.84,\n",
       "       0.39, 2.92, 3.44, 1.61, 2.09, 3.13, 0.62, 2.17, 0.49, 0.62, 1.87,\n",
       "       3.14, 1.24, 2.53, 3.02, 1.07, 1.12, 0.24, 2.78, 3.95, 2.95, 3.61,\n",
       "       1.87, 3.32])"
      ]
     },
     "execution_count": 334,
     "metadata": {},
     "output_type": "execute_result"
    }
   ],
   "source": [
    "labels_deaths = np.array(data['Death Counts(Per 1000)'])\n",
    "labels_deaths"
   ]
  },
  {
   "cell_type": "code",
   "execution_count": 385,
   "id": "9e71d9fb",
   "metadata": {},
   "outputs": [],
   "source": [
    "from sklearn.model_selection import train_test_split"
   ]
  },
  {
   "cell_type": "code",
   "execution_count": 399,
   "id": "8b9d743e",
   "metadata": {},
   "outputs": [],
   "source": [
    "train_features, test_features, train_labels, test_labels = train_test_split(features, labels_deaths, test_size = 0.3, random_state = 0)"
   ]
  },
  {
   "cell_type": "code",
   "execution_count": 400,
   "id": "ec821c72",
   "metadata": {
    "scrolled": true
   },
   "outputs": [
    {
     "name": "stdout",
     "output_type": "stream",
     "text": [
      "Training Features Shape: (39, 21)\n",
      "Training Labels Shape: (39,)\n",
      "Testing Features Shape: (18, 21)\n",
      "Testing Labels Shape: (18,)\n"
     ]
    }
   ],
   "source": [
    "print('Training Features Shape:', train_features.shape)\n",
    "print('Training Labels Shape:', train_labels.shape)\n",
    "print('Testing Features Shape:', test_features.shape)\n",
    "print('Testing Labels Shape:', test_labels.shape)"
   ]
  },
  {
   "cell_type": "code",
   "execution_count": 401,
   "id": "bab6bb6a",
   "metadata": {
    "scrolled": true
   },
   "outputs": [
    {
     "name": "stdout",
     "output_type": "stream",
     "text": [
      "[2.74 2.74 2.74 2.74 2.74 2.74 2.74 2.74 2.74 2.74 2.74 2.74 2.74 2.74\n",
      " 2.74 2.74 2.74 2.74 2.74 2.74 2.74 2.74 2.74 2.74 2.74 2.74 2.74 2.74\n",
      " 2.74 2.74 2.74 2.74 2.74 2.74 2.74 2.74 2.74 2.74 2.74 2.74 2.74 2.74\n",
      " 2.74 2.74 2.74 2.74 2.74 2.74 2.74 2.74 2.74 2.74 2.74 2.74 2.74 2.74\n",
      " 2.74]\n",
      "[0.59 0.4  0.32 1.06 0.12 1.91 0.13 0.29 1.   1.14 2.35 0.24 0.92 0.59\n",
      " 0.1  1.22 1.28 0.63 2.04 0.3  0.19 2.03 2.02 2.51 0.04 0.93 0.49 0.\n",
      " 0.11 0.39 1.48 1.01 1.9  2.35 0.18 0.7  1.13 0.65 0.39 2.12 0.57 2.25\n",
      " 2.12 0.87 0.4  1.5  0.21 0.28 1.67 1.62 2.5  0.04 1.21 0.21 0.87 0.87\n",
      " 0.58]\n",
      "Average baseline error =  0.9652631578947368 (deaths per 1000)\n"
     ]
    }
   ],
   "source": [
    "median_deaths = np.median(labels_deaths)\n",
    "baseline_pred = np.repeat(median_deaths, len(labels_deaths))\n",
    "print(baseline_pred)\n",
    "baseline_errors = abs(baseline_pred - labels_deaths)\n",
    "print(baseline_errors)\n",
    "\n",
    "print(\"Average baseline error = \", np.mean(baseline_errors), \"(deaths per 1000)\")"
   ]
  },
  {
   "cell_type": "code",
   "execution_count": 402,
   "id": "03756e9f",
   "metadata": {},
   "outputs": [],
   "source": [
    "from sklearn.ensemble import RandomForestRegressor"
   ]
  },
  {
   "cell_type": "code",
   "execution_count": 403,
   "id": "fbe67212",
   "metadata": {},
   "outputs": [
    {
     "data": {
      "text/plain": [
       "RandomForestRegressor(n_estimators=1000, random_state=17)"
      ]
     },
     "execution_count": 403,
     "metadata": {},
     "output_type": "execute_result"
    }
   ],
   "source": [
    "rf = RandomForestRegressor(n_estimators = 1000, random_state = 17)\n",
    "rf.fit(train_features, train_labels)"
   ]
  },
  {
   "cell_type": "code",
   "execution_count": 407,
   "id": "b8a22102",
   "metadata": {},
   "outputs": [
    {
     "name": "stdout",
     "output_type": "stream",
     "text": [
      "Average absolute error =  0.6 (deaths per 1000)\n",
      "MSE:  0.5971488080166729\n"
     ]
    }
   ],
   "source": [
    "predictions = rf.predict(test_features)\n",
    "errors = abs(predictions - test_labels)\n",
    "from sklearn.metrics import mean_squared_error\n",
    "\n",
    "\n",
    "print(\"Average absolute error = \", round(np.mean(errors), 2), \"(deaths per 1000)\")\n",
    "print(\"MSE: \", mean_squared_error(test_labels, predictions))"
   ]
  },
  {
   "cell_type": "code",
   "execution_count": 342,
   "id": "dadda7a8",
   "metadata": {},
   "outputs": [
    {
     "name": "stdout",
     "output_type": "stream",
     "text": [
      "Average absolute error for training data =  0.21 (deaths per 1000)\n"
     ]
    },
    {
     "data": {
      "text/plain": [
       "Text(0, 0.5, 'Actual (Training data)')"
      ]
     },
     "execution_count": 342,
     "metadata": {},
     "output_type": "execute_result"
    },
    {
     "data": {
      "image/png": "[encoded data removed]",
      "text/plain": [
       "<Figure size 432x288 with 1 Axes>"
      ]
     },
     "metadata": {
      "needs_background": "light"
     },
     "output_type": "display_data"
    }
   ],
   "source": [
    "#Compute/plot error on training data\n",
    "\n",
    "train_predictions = rf.predict(train_features)\n",
    "train_errors = abs(train_predictions - train_labels)\n",
    "print(\"Average absolute error for training data = \", round(np.mean(train_errors), 2), \"(deaths per 1000)\")\n",
    "\n",
    "fig, ax = plt.subplots()\n",
    "ax.scatter(x = train_predictions, y = train_labels)\n",
    "\n",
    "lims = [\n",
    "    np.min([ax.get_xlim(), ax.get_ylim()]),  # min of both axes\n",
    "    np.max([ax.get_xlim(), ax.get_ylim()]),  # max of both axes\n",
    "]\n",
    "\n",
    "# now plot both limits against eachother\n",
    "ax.plot(lims, lims, 'k-', alpha=0.75, zorder=0)\n",
    "ax.set_aspect('equal')\n",
    "ax.set_xlim(lims)\n",
    "ax.set_ylim(lims)\n",
    "\n",
    "plt.xlabel('Predicted (Training data)', fontsize=15)\n",
    "plt.ylabel('Actual (Training data)', fontsize=15)"
   ]
  },
  {
   "cell_type": "code",
   "execution_count": 431,
   "id": "c1a5e3c3",
   "metadata": {
    "scrolled": true
   },
   "outputs": [
    {
     "name": "stdout",
     "output_type": "stream",
     "text": [
      "Average absolute error =  0.6 (deaths per 1000)\n"
     ]
    },
    {
     "data": {
      "text/plain": [
       "Text(0, 0.5, 'Actual (Test Data)')"
      ]
     },
     "execution_count": 431,
     "metadata": {},
     "output_type": "execute_result"
    },
    {
     "data": {
      "image/png": "[encoded data removed]",
      "text/plain": [
       "<Figure size 432x288 with 1 Axes>"
      ]
     },
     "metadata": {
      "needs_background": "light"
     },
     "output_type": "display_data"
    }
   ],
   "source": [
    "#Plot error on test data\n",
    "\n",
    "fig, ax = plt.subplots()\n",
    "ax.scatter(x = predictions, y = test_labels)\n",
    "\n",
    "lims = [\n",
    "    np.min([ax.get_xlim(), ax.get_ylim()]),  # min of both axes\n",
    "    np.max([ax.get_xlim(), ax.get_ylim()]),  # max of both axes\n",
    "]\n",
    "\n",
    "predictions = rf.predict(test_features)\n",
    "errors = abs(predictions - test_labels)\n",
    "print(\"Average absolute error = \", round(np.mean(errors), 2), \"(deaths per 1000)\")\n",
    "\n",
    "# now plot both limits against eachother\n",
    "ax.plot(lims, lims, 'k-', alpha=0.75, zorder=0)\n",
    "ax.set_aspect('equal')\n",
    "ax.set_xlim(lims)\n",
    "ax.set_ylim(lims)\n",
    "\n",
    "plt.xlabel('Predicted (Test Data)', fontsize=15)\n",
    "plt.ylabel('Actual (Test Data)', fontsize=15)"
   ]
  },
  {
   "cell_type": "markdown",
   "id": "1356514f",
   "metadata": {},
   "source": [
    "# RF Analysis with only 'important' features (i.e., corr > 0.5)"
   ]
  },
  {
   "cell_type": "code",
   "execution_count": 439,
   "id": "5abfe4f7",
   "metadata": {},
   "outputs": [
    {
     "name": "stdout",
     "output_type": "stream",
     "text": [
      "['Latin America(%)', 'Asian(%)', 'No Degree(%)', 'Drove Alone (%)', 'Persons per household', 'Median household income (USD)', 'Black(%)', 'Per capita income (USD)', 'Walked (%)', 'White(%)', 'Moved Since Prev Year(%)', 'Same House Prev Year(%)', 'Post-grad(%)', 'Under 18(%)', 'Asia(%)', 'Median housing value', '18 to 64(%)', 'Some College(%)', 'High School(%)', \"Bachelor's(%)\", 'Mean travel time to work (Minutes)']\n",
      "    Latin America(%)  Asian(%)  No Degree(%)  Drove Alone (%)  \\\n",
      "0              66.31      3.96          9.89            40.87   \n",
      "1              91.67      1.39         31.66            62.28   \n",
      "2              44.29      3.31         14.20            69.44   \n",
      "3              38.03      4.53          5.83            39.55   \n",
      "4              94.89      0.28         21.89            61.29   \n",
      "5              13.02     20.67          0.78            26.12   \n",
      "6              68.33      0.54         14.64            74.61   \n",
      "7              82.81      0.84         17.94            68.75   \n",
      "8              32.51      6.09         11.13            37.27   \n",
      "9              16.94      8.19          6.53            34.81   \n",
      "10             56.45      0.49         21.32            47.93   \n",
      "11             26.80     15.37         15.17            59.38   \n",
      "12             52.49      0.43          7.39            65.60   \n",
      "13             30.02     14.30         10.60            35.33   \n",
      "14             21.67     11.20          9.13            32.60   \n",
      "15             13.81      7.25          1.78            30.63   \n",
      "16             13.82      3.92          5.56            76.76   \n",
      "17             15.40      9.65          6.15            68.70   \n",
      "18             72.40      0.17         13.84            60.18   \n",
      "19             45.46     11.74         13.94            43.43   \n",
      "20             57.19      4.93         18.63            60.27   \n",
      "21             19.90      6.95          1.56            26.91   \n",
      "22             98.04      0.08         20.98            52.60   \n",
      "23             44.02      0.35         10.30            46.30   \n",
      "24             87.63      0.24         18.73            60.33   \n",
      "25             82.87      0.00         17.45            72.68   \n",
      "26             32.45      4.71         13.14            43.96   \n",
      "27              5.23     17.42          0.00            23.57   \n",
      "28             89.66      0.14         25.50            50.55   \n",
      "29              5.88      9.65          7.53            70.36   \n",
      "30             83.89      0.32         17.84            51.69   \n",
      "31             27.17      1.35          3.80            77.62   \n",
      "32              4.31     33.47          0.00            16.95   \n",
      "33             11.88     18.25          4.54            31.37   \n",
      "34             30.68      1.39         11.14            46.98   \n",
      "35             77.11      7.15         26.71            49.74   \n",
      "36             64.23      6.59         11.96            47.56   \n",
      "37              5.35     38.63         15.44            46.05   \n",
      "38             14.93     27.26          0.00             6.02   \n",
      "39             11.59     24.31          5.93            20.62   \n",
      "40             63.74     14.14         26.30            43.92   \n",
      "41              8.26     21.17          4.33            28.90   \n",
      "42             10.78     32.37          0.65            15.19   \n",
      "43             60.76      0.01         11.64            64.40   \n",
      "44             31.50     12.17          9.34            62.37   \n",
      "45             35.31      8.46          4.05            36.64   \n",
      "46             17.32     26.27         18.36            64.12   \n",
      "47             35.73      5.13         12.83            73.45   \n",
      "48             21.76      6.64          3.52            28.73   \n",
      "49             13.78     10.18          3.01            22.51   \n",
      "50             27.10     12.67          1.41            22.64   \n",
      "51             82.11      6.66         32.01            57.58   \n",
      "52             98.32      0.27         33.78            53.21   \n",
      "53             93.20      0.55         26.95            61.89   \n",
      "54             71.15      0.34         14.14            58.02   \n",
      "55             14.00      4.89         11.59            37.13   \n",
      "56             55.03      0.28         10.44            56.79   \n",
      "\n",
      "    Persons per household  Median household income (USD)  Black(%)  \\\n",
      "0                    2.36                        82433.0      4.72   \n",
      "1                    3.42                        51810.0     13.24   \n",
      "2                    2.73                        64790.0      6.63   \n",
      "3                    2.16                       106128.0      5.35   \n",
      "4                    3.18                        41107.0     53.02   \n",
      "5                    1.54                       108413.0      2.82   \n",
      "6                    2.82                        68041.0      3.43   \n",
      "7                    3.21                        71267.0     44.14   \n",
      "8                    2.06                        45632.0     26.39   \n",
      "9                    1.87                        44658.0     52.75   \n",
      "10                   2.43                        23019.0     92.55   \n",
      "11                   2.86                        62989.0     14.30   \n",
      "12                   2.74                        69782.0     70.58   \n",
      "13                   2.02                        53365.0     14.67   \n",
      "14                   1.87                        59516.0     16.75   \n",
      "15                   2.05                       117251.0      3.70   \n",
      "16                   2.44                       102936.0      0.88   \n",
      "17                   2.65                       100670.0      0.62   \n",
      "18                   2.79                        44410.0     92.10   \n",
      "19                   2.55                        73114.0      4.45   \n",
      "20                   2.85                        67599.0      2.53   \n",
      "21                   1.90                        94722.0      3.30   \n",
      "22                   2.71                        26598.0     85.49   \n",
      "23                   2.06                        36130.0     92.42   \n",
      "24                   2.81                        43642.0     55.07   \n",
      "25                   2.56                        52193.0     25.69   \n",
      "26                   2.26                        44538.0     53.84   \n",
      "27                   1.67                        58558.0      9.88   \n",
      "28                   2.73                        25648.0     87.25   \n",
      "29                   2.31                        68931.0      3.28   \n",
      "30                   2.60                        28033.0     84.44   \n",
      "31                   2.60                        99264.0      5.71   \n",
      "32                   1.52                       140125.0      2.45   \n",
      "33                   1.72                       109194.0     13.80   \n",
      "34                   2.08                        34621.0     85.53   \n",
      "35                   2.74                        40324.0     23.75   \n",
      "36                   2.62                        85443.0      2.33   \n",
      "37                   2.04                        61843.0     23.93   \n",
      "38                   1.59                       226276.0      2.32   \n",
      "39                   1.73                       109625.0      4.68   \n",
      "40                   2.65                        57183.0     17.20   \n",
      "41                   1.99                       103173.0     12.80   \n",
      "42                   1.38                       121982.0      1.56   \n",
      "43                   2.69                        34878.0     89.53   \n",
      "44                   2.66                        78703.0      1.94   \n",
      "45                   2.07                       120442.0      9.49   \n",
      "46                   3.16                        54807.0      8.20   \n",
      "47                   2.82                        72507.0      1.91   \n",
      "48                   1.87                        84463.0      6.17   \n",
      "49                   1.61                        95994.0     12.50   \n",
      "50                   1.57                       128101.0      3.72   \n",
      "51                   3.43                        46937.0      1.08   \n",
      "52                   3.00                        34714.0     28.58   \n",
      "53                   3.37                        43372.0     18.07   \n",
      "54                   2.68                        39499.0     94.82   \n",
      "55                   2.15                        30149.0     74.70   \n",
      "56                   2.24                        40762.0     95.09   \n",
      "\n",
      "    Per capita income (USD)  Walked (%)  White(%)  ...  \\\n",
      "0                   51166.0        3.61     48.50  ...   \n",
      "1                   21614.0        2.33      8.07  ...   \n",
      "2                   31849.0        1.44     46.85  ...   \n",
      "3                   67985.0        3.73     64.44  ...   \n",
      "4                   19526.0        2.18      5.00  ...   \n",
      "5                  114009.0       32.54     68.54  ...   \n",
      "6                   31202.0        2.47     42.33  ...   \n",
      "7                   26594.0        0.49     10.27  ...   \n",
      "8                   29927.0        5.13     45.25  ...   \n",
      "9                   40185.0       13.50     28.51  ...   \n",
      "10                  15127.0        1.90      1.45  ...   \n",
      "11                  31614.0        4.50     46.32  ...   \n",
      "12                  37263.0        2.08     21.72  ...   \n",
      "13                  37791.0        5.93     49.52  ...   \n",
      "14                  43200.0        4.56     54.75  ...   \n",
      "15                  89933.0        5.92     80.10  ...   \n",
      "16                  52203.0        1.10     79.99  ...   \n",
      "17                  53726.0        2.83     73.30  ...   \n",
      "18                  21980.0        1.52      2.42  ...   \n",
      "19                  39392.0        4.94     46.30  ...   \n",
      "20                  32542.0        2.14     35.71  ...   \n",
      "21                  78274.0        4.37     77.92  ...   \n",
      "22                  17552.0        1.05      1.31  ...   \n",
      "23                  27762.0        2.53      3.16  ...   \n",
      "24                  22736.0        1.51      5.88  ...   \n",
      "25                  25624.0        0.89     30.01  ...   \n",
      "26                  33583.0        5.94     23.68  ...   \n",
      "27                  81253.0       37.00     69.55  ...   \n",
      "28                  15133.0        1.61      3.35  ...   \n",
      "29                  38960.0        1.53     72.14  ...   \n",
      "30                  17691.0        2.32      4.01  ...   \n",
      "31                  43820.0        1.61     80.75  ...   \n",
      "32                 122475.0       46.19     58.35  ...   \n",
      "33                  81850.0       16.29     57.20  ...   \n",
      "34                  30773.0        3.22      6.25  ...   \n",
      "35                  21017.0        3.94     15.39  ...   \n",
      "36                  47550.0        3.12     47.94  ...   \n",
      "37                  39779.0        6.06     27.36  ...   \n",
      "38                 193919.0       27.71     49.75  ...   \n",
      "39                 110753.0       41.84     59.35  ...   \n",
      "40                  25703.0        5.36     20.66  ...   \n",
      "41                  61065.0       25.75     53.02  ...   \n",
      "42                 129890.0       51.72     57.27  ...   \n",
      "43                  19581.0        2.88      2.28  ...   \n",
      "44                  37240.0        1.48     55.50  ...   \n",
      "45                  70863.0        7.97     61.15  ...   \n",
      "46                  24645.0        4.84     38.56  ...   \n",
      "47                  32294.0        1.62     52.68  ...   \n",
      "48                  65591.0        4.79     71.94  ...   \n",
      "49                  92334.0       19.06     67.72  ...   \n",
      "50                 114428.0       44.00     71.96  ...   \n",
      "51                  18927.0        3.24      8.90  ...   \n",
      "52                  16840.0        3.77      3.85  ...   \n",
      "53                  19159.0        2.59      7.08  ...   \n",
      "54                  21225.0        0.60      1.16  ...   \n",
      "55                  28292.0       12.13     13.84  ...   \n",
      "56                  25520.0        1.42      1.00  ...   \n",
      "\n",
      "    Same House Prev Year(%)  Post-grad(%)  Under 18(%)  Asia(%)  \\\n",
      "0                     81.20         21.65        17.56    14.11   \n",
      "1                     90.80          4.24        26.29     2.99   \n",
      "2                     91.85         11.11        21.06    11.93   \n",
      "3                     79.03         26.79        13.41    19.04   \n",
      "4                     90.10          5.19        26.37     2.46   \n",
      "5                     74.83         46.31         6.27    50.95   \n",
      "6                     92.33          6.44        24.19     2.37   \n",
      "7                     94.83          7.47        25.46     9.35   \n",
      "8                     80.34         19.76        17.17    19.88   \n",
      "9                     76.34         34.90        14.83    46.88   \n",
      "10                    84.17          2.55        26.77    12.30   \n",
      "11                    86.50         16.13        25.92    43.85   \n",
      "12                    91.51         17.43        23.30    14.87   \n",
      "13                    80.01         22.69        12.80    39.81   \n",
      "14                    79.58         24.81        13.03    34.45   \n",
      "15                    73.44         39.23        14.65    37.40   \n",
      "16                    94.04         17.89        21.38    20.39   \n",
      "17                    93.51         23.42        23.10    32.89   \n",
      "18                    89.62          8.75        21.44     5.51   \n",
      "19                    84.10         19.52        20.09    34.37   \n",
      "20                    90.13         10.78        22.50    15.35   \n",
      "21                    73.05         35.25        12.45    39.14   \n",
      "22                    87.58          2.88        22.67     0.00   \n",
      "23                    82.54         11.35        21.32     7.83   \n",
      "24                    90.59          6.81        25.39     1.70   \n",
      "25                    90.55          5.74        21.89    10.10   \n",
      "26                    82.02         15.15        20.97    29.70   \n",
      "27                    69.68         68.09         0.69    49.67   \n",
      "28                    86.61          4.45        26.63     6.35   \n",
      "29                    86.37         12.72        18.79    27.61   \n",
      "30                    81.13          4.13        25.69     9.61   \n",
      "31                    93.87         20.22        24.77    15.32   \n",
      "32                    68.89         50.85         1.26    64.94   \n",
      "33                    72.24         44.36         8.43    61.84   \n",
      "34                    84.77         15.68        25.90    19.01   \n",
      "35                    87.84          6.12        25.40    19.26   \n",
      "36                    86.17         20.34        21.99    17.56   \n",
      "37                    84.14         26.14        13.57    79.44   \n",
      "38                    66.98         54.73         7.21    45.02   \n",
      "39                    64.48         46.95         5.68    58.15   \n",
      "40                    83.73         10.76        17.58    31.60   \n",
      "41                    71.37         35.23        11.09    68.49   \n",
      "42                    72.89         54.28         3.00    68.43   \n",
      "43                    86.07          6.63        30.29     5.59   \n",
      "44                    89.22         14.49        20.24    32.31   \n",
      "45                    75.51         25.49         8.96    36.99   \n",
      "46                    90.82         13.27        27.18    60.56   \n",
      "47                    92.74          8.45        20.41    12.61   \n",
      "48                    77.13         30.11        12.23    34.86   \n",
      "49                    73.89         36.26         8.27    47.44   \n",
      "50                    70.81         39.58         5.90    42.48   \n",
      "51                    93.67          2.49        27.29    12.17   \n",
      "52                    89.31          3.22        26.57     0.79   \n",
      "53                    92.65          3.28        28.86     2.31   \n",
      "54                    85.86          6.23        23.56    14.33   \n",
      "55                    77.66         20.03        22.88    47.58   \n",
      "56                    85.01          9.93        20.64    10.17   \n",
      "\n",
      "    Median housing value  18 to 64(%)  Some College(%)  High School(%)  \\\n",
      "0               434500.0        75.14            15.28           17.45   \n",
      "1               245300.0        62.24            24.16           30.62   \n",
      "2               267000.0        63.60            30.45           27.50   \n",
      "3               524400.0        79.84            12.86            9.62   \n",
      "4               191500.0        61.38            30.47           34.41   \n",
      "5               574300.0        73.00             8.80            3.73   \n",
      "6               229800.0        62.31            29.61           33.95   \n",
      "7               183900.0        62.48            31.69           30.21   \n",
      "8               220800.0        73.22            23.75           16.61   \n",
      "9               261700.0        70.29            19.87           11.45   \n",
      "10              106300.0        57.73            32.23           36.73   \n",
      "11              292500.0        60.51            19.93           17.74   \n",
      "12              195900.0        58.61            33.26           21.30   \n",
      "13              258600.0        74.25            21.33           15.88   \n",
      "14              311800.0        74.26            18.92           12.13   \n",
      "15              662300.0        76.47             8.48            3.86   \n",
      "16              367100.0        59.73            23.18           25.27   \n",
      "17              442800.0        58.58            23.16           16.86   \n",
      "18              123600.0        61.27            37.73           26.74   \n",
      "19              354800.0        70.65            16.64           17.81   \n",
      "20              311700.0        66.34            24.50           24.59   \n",
      "21              464500.0        79.11            10.42            3.69   \n",
      "22              104600.0        57.14            28.74           40.27   \n",
      "23              165600.0        63.17            39.43           24.15   \n",
      "24              137100.0        58.36            30.94           31.10   \n",
      "25              139500.0        62.81            35.18           33.16   \n",
      "26              294400.0        68.34            28.36           21.19   \n",
      "27              485900.0        90.40             8.54            0.00   \n",
      "28              188100.0        61.37            30.85           32.54   \n",
      "29              304500.0        63.16            28.01           24.30   \n",
      "30              188200.0        59.10            32.99           37.84   \n",
      "31              262100.0        61.38            30.63           19.57   \n",
      "32              499400.0        82.04             4.76            0.00   \n",
      "33              404400.0        81.38            13.24            3.85   \n",
      "34              298700.0        59.27            31.61           21.09   \n",
      "35              194500.0        61.93            22.16           35.00   \n",
      "36              434300.0        69.18            19.17           17.82   \n",
      "37              343900.0        69.71            18.24           17.61   \n",
      "38                   0.0        92.54             6.81            0.00   \n",
      "39              540600.0        76.37             8.22            2.39   \n",
      "40              279300.0        71.89            17.89           24.63   \n",
      "41              433300.0        83.60            10.18            6.73   \n",
      "42              338700.0        87.61             3.72            1.47   \n",
      "43               94300.0        59.04            43.56           30.08   \n",
      "44              307600.0        63.45            23.54           24.71   \n",
      "45              475000.0        85.72            13.54            8.45   \n",
      "46              303900.0        61.54            22.13           21.58   \n",
      "47              273700.0        64.75            30.49           30.94   \n",
      "48              341900.0        78.69            14.66            6.54   \n",
      "49              458100.0        76.75            12.35            7.20   \n",
      "50              462000.0        87.08             6.71            3.42   \n",
      "51              190900.0        61.92            18.16           38.65   \n",
      "52              167500.0        61.25            22.00           32.18   \n",
      "53              178300.0        59.73            22.73           39.24   \n",
      "54              148800.0        58.46            37.81           29.79   \n",
      "55              212000.0        64.79            31.93           22.28   \n",
      "56              167000.0        60.85            37.05           25.82   \n",
      "\n",
      "    Bachelor's(%)  Mean travel time to work (Minutes)  \n",
      "0           35.73                               33.43  \n",
      "1            9.32                               38.62  \n",
      "2           16.73                               35.05  \n",
      "3           44.90                               31.37  \n",
      "4            8.03                               37.46  \n",
      "5           40.38                               24.43  \n",
      "6           15.36                               33.72  \n",
      "7           12.69                               40.09  \n",
      "8           28.75                               37.40  \n",
      "9           27.24                               30.86  \n",
      "10           7.16                               38.86  \n",
      "11          31.02                               33.42  \n",
      "12          20.62                               37.42  \n",
      "13          29.50                               37.54  \n",
      "14          35.01                               36.36  \n",
      "15          46.65                               31.04  \n",
      "16          28.10                               31.84  \n",
      "17          30.41                               33.02  \n",
      "18          12.95                               41.55  \n",
      "19          32.09                               36.69  \n",
      "20          21.50                               38.14  \n",
      "21          49.08                               34.24  \n",
      "22           7.13                               40.99  \n",
      "23          14.77                               43.46  \n",
      "24          12.42                               41.18  \n",
      "25           8.47                               35.02  \n",
      "26          22.16                               32.09  \n",
      "27          23.37                               25.51  \n",
      "28           6.66                               35.81  \n",
      "29          27.45                               31.74  \n",
      "30           7.19                               37.45  \n",
      "31          25.78                               33.69  \n",
      "32          44.39                               20.45  \n",
      "33          34.01                               28.17  \n",
      "34          20.48                               32.72  \n",
      "35          10.01                               34.03  \n",
      "36          30.71                               35.87  \n",
      "37          22.58                               29.18  \n",
      "38          38.45                               41.37  \n",
      "39          36.50                               27.76  \n",
      "40          20.42                               30.23  \n",
      "41          43.53                               27.22  \n",
      "42          39.88                               19.81  \n",
      "43           8.09                               38.42  \n",
      "44          27.92                               35.33  \n",
      "45          48.46                               28.15  \n",
      "46          24.66                               33.73  \n",
      "47          17.30                               37.81  \n",
      "48          45.18                               36.21  \n",
      "49          41.18                               27.34  \n",
      "50          48.88                               22.25  \n",
      "51           8.69                               33.61  \n",
      "52           8.82                               37.92  \n",
      "53           7.81                               35.85  \n",
      "54          12.03                               40.73  \n",
      "55          14.17                               33.83  \n",
      "56          16.76                               40.00  \n",
      "\n",
      "[57 rows x 21 columns]\n"
     ]
    }
   ],
   "source": [
    "data_input = data.iloc[:,:-4]\n",
    "data_input = data_input.set_index('Zipcode')\n",
    "important_features = list(feature_importance['index'])\n",
    "data_input = data_input[important_features]\n",
    "features = np.array(data_input)\n",
    "feature_list = list(data_input.columns)\n",
    "\n",
    "#print(data_input.head())\n",
    "#print(features[0:10,:])\n",
    "print(feature_list)\n",
    "\n",
    "###Everything after this point should be same as above\n",
    "\n",
    "print(data[important_features])"
   ]
  },
  {
   "cell_type": "code",
   "execution_count": 421,
   "id": "c3e814bb",
   "metadata": {},
   "outputs": [
    {
     "data": {
      "text/plain": [
       "array([2.15, 3.14, 3.06, 1.68, 2.86, 0.83, 2.87, 3.03, 3.74, 1.6 , 5.09,\n",
       "       2.98, 3.66, 2.15, 2.64, 1.52, 4.02, 3.37, 4.78, 3.04, 2.55, 0.71,\n",
       "       4.76, 5.25, 2.7 , 1.81, 3.23, 2.74, 2.85, 2.35, 4.22, 1.73, 0.84,\n",
       "       0.39, 2.92, 3.44, 1.61, 2.09, 3.13, 0.62, 2.17, 0.49, 0.62, 1.87,\n",
       "       3.14, 1.24, 2.53, 3.02, 1.07, 1.12, 0.24, 2.78, 3.95, 2.95, 3.61,\n",
       "       1.87, 3.32])"
      ]
     },
     "execution_count": 421,
     "metadata": {},
     "output_type": "execute_result"
    }
   ],
   "source": [
    "labels_deaths = np.array(data['Death Counts(Per 1000)'])\n",
    "labels_deaths"
   ]
  },
  {
   "cell_type": "code",
   "execution_count": 422,
   "id": "14d78f50",
   "metadata": {},
   "outputs": [],
   "source": [
    "from sklearn.model_selection import train_test_split"
   ]
  },
  {
   "cell_type": "code",
   "execution_count": 423,
   "id": "3922faa0",
   "metadata": {},
   "outputs": [],
   "source": [
    "train_features, test_features, train_labels, test_labels = train_test_split(features, labels_deaths, test_size = 0.3, random_state = 0)"
   ]
  },
  {
   "cell_type": "code",
   "execution_count": 424,
   "id": "952030b2",
   "metadata": {},
   "outputs": [
    {
     "name": "stdout",
     "output_type": "stream",
     "text": [
      "Training Features Shape: (39, 21)\n",
      "Training Labels Shape: (39,)\n",
      "Testing Features Shape: (18, 21)\n",
      "Testing Labels Shape: (18,)\n"
     ]
    }
   ],
   "source": [
    "print('Training Features Shape:', train_features.shape)\n",
    "print('Training Labels Shape:', train_labels.shape)\n",
    "print('Testing Features Shape:', test_features.shape)\n",
    "print('Testing Labels Shape:', test_labels.shape)"
   ]
  },
  {
   "cell_type": "code",
   "execution_count": 425,
   "id": "c1186ce4",
   "metadata": {
    "scrolled": true
   },
   "outputs": [
    {
     "name": "stdout",
     "output_type": "stream",
     "text": [
      "[2.74 2.74 2.74 2.74 2.74 2.74 2.74 2.74 2.74 2.74 2.74 2.74 2.74 2.74\n",
      " 2.74 2.74 2.74 2.74 2.74 2.74 2.74 2.74 2.74 2.74 2.74 2.74 2.74 2.74\n",
      " 2.74 2.74 2.74 2.74 2.74 2.74 2.74 2.74 2.74 2.74 2.74 2.74 2.74 2.74\n",
      " 2.74 2.74 2.74 2.74 2.74 2.74 2.74 2.74 2.74 2.74 2.74 2.74 2.74 2.74\n",
      " 2.74]\n",
      "[0.59 0.4  0.32 1.06 0.12 1.91 0.13 0.29 1.   1.14 2.35 0.24 0.92 0.59\n",
      " 0.1  1.22 1.28 0.63 2.04 0.3  0.19 2.03 2.02 2.51 0.04 0.93 0.49 0.\n",
      " 0.11 0.39 1.48 1.01 1.9  2.35 0.18 0.7  1.13 0.65 0.39 2.12 0.57 2.25\n",
      " 2.12 0.87 0.4  1.5  0.21 0.28 1.67 1.62 2.5  0.04 1.21 0.21 0.87 0.87\n",
      " 0.58]\n",
      "Average baseline error =  0.9652631578947368 (deaths per 1000)\n"
     ]
    }
   ],
   "source": [
    "median_deaths = np.median(labels_deaths)\n",
    "baseline_pred = np.repeat(median_deaths, len(labels_deaths))\n",
    "print(baseline_pred)\n",
    "baseline_errors = abs(baseline_pred - labels_deaths)\n",
    "print(baseline_errors)\n",
    "\n",
    "print(\"Average baseline error = \", np.mean(baseline_errors), \"(deaths per 1000)\")"
   ]
  },
  {
   "cell_type": "code",
   "execution_count": 426,
   "id": "6b4f820b",
   "metadata": {},
   "outputs": [],
   "source": [
    "from sklearn.ensemble import RandomForestRegressor"
   ]
  },
  {
   "cell_type": "code",
   "execution_count": 427,
   "id": "03f26e9b",
   "metadata": {},
   "outputs": [
    {
     "data": {
      "text/plain": [
       "RandomForestRegressor(n_estimators=1000, random_state=17)"
      ]
     },
     "execution_count": 427,
     "metadata": {},
     "output_type": "execute_result"
    }
   ],
   "source": [
    "rf = RandomForestRegressor(n_estimators = 1000, random_state = 17)\n",
    "rf.fit(train_features, train_labels)"
   ]
  },
  {
   "cell_type": "code",
   "execution_count": 428,
   "id": "11ab76a9",
   "metadata": {},
   "outputs": [
    {
     "name": "stdout",
     "output_type": "stream",
     "text": [
      "Average absolute error =  0.6 (deaths per 1000)\n"
     ]
    }
   ],
   "source": [
    "predictions = rf.predict(test_features)\n",
    "errors = abs(predictions - test_labels)\n",
    "print(\"Average absolute error = \", round(np.mean(errors), 2), \"(deaths per 1000)\")"
   ]
  },
  {
   "cell_type": "code",
   "execution_count": 429,
   "id": "58095f44",
   "metadata": {},
   "outputs": [
    {
     "name": "stdout",
     "output_type": "stream",
     "text": [
      "Average absolute error for training data =  0.27 (deaths per 1000)\n"
     ]
    },
    {
     "data": {
      "text/plain": [
       "Text(0, 0.5, 'Actual (Training data)')"
      ]
     },
     "execution_count": 429,
     "metadata": {},
     "output_type": "execute_result"
    },
    {
     "data": {
      "image/png": "[encoded data removed]",
      "text/plain": [
       "<Figure size 432x288 with 1 Axes>"
      ]
     },
     "metadata": {
      "needs_background": "light"
     },
     "output_type": "display_data"
    }
   ],
   "source": [
    "#Compute/plot error on training data\n",
    "\n",
    "train_predictions = rf.predict(train_features)\n",
    "train_errors = abs(train_predictions - train_labels)\n",
    "print(\"Average absolute error for training data = \", round(np.mean(train_errors), 2), \"(deaths per 1000)\")\n",
    "\n",
    "fig, ax = plt.subplots()\n",
    "ax.scatter(x = train_predictions, y = train_labels)\n",
    "\n",
    "lims = [\n",
    "    np.min([ax.get_xlim(), ax.get_ylim()]),  # min of both axes\n",
    "    np.max([ax.get_xlim(), ax.get_ylim()]),  # max of both axes\n",
    "]\n",
    "\n",
    "# now plot both limits against eachother\n",
    "ax.plot(lims, lims, 'k-', alpha=0.75, zorder=0)\n",
    "ax.set_aspect('equal')\n",
    "ax.set_xlim(lims)\n",
    "ax.set_ylim(lims)\n",
    "\n",
    "plt.xlabel('Predicted (Training data)', fontsize=15)\n",
    "plt.ylabel('Actual (Training data)', fontsize=15)"
   ]
  },
  {
   "cell_type": "code",
   "execution_count": 430,
   "id": "d45ffa98",
   "metadata": {
    "scrolled": true
   },
   "outputs": [
    {
     "name": "stdout",
     "output_type": "stream",
     "text": [
      "Average absolute error =  0.6 (deaths per 1000)\n"
     ]
    },
    {
     "data": {
      "text/plain": [
       "Text(0, 0.5, 'Actual (Test Data)')"
      ]
     },
     "execution_count": 430,
     "metadata": {},
     "output_type": "execute_result"
    },
    {
     "data": {
      "image/png": "[encoded data removed]",
      "text/plain": [
       "<Figure size 432x288 with 1 Axes>"
      ]
     },
     "metadata": {
      "needs_background": "light"
     },
     "output_type": "display_data"
    }
   ],
   "source": [
    "#Plot error on test data\n",
    "\n",
    "fig, ax = plt.subplots()\n",
    "ax.scatter(x = predictions, y = test_labels)\n",
    "\n",
    "lims = [\n",
    "    np.min([ax.get_xlim(), ax.get_ylim()]),  # min of both axes\n",
    "    np.max([ax.get_xlim(), ax.get_ylim()]),  # max of both axes\n",
    "]\n",
    "\n",
    "predictions = rf.predict(test_features)\n",
    "errors = abs(predictions - test_labels)\n",
    "print(\"Average absolute error = \", round(np.mean(errors), 2), \"(deaths per 1000)\")\n",
    "\n",
    "# now plot both limits against eachother\n",
    "ax.plot(lims, lims, 'k-', alpha=0.75, zorder=0)\n",
    "ax.set_aspect('equal')\n",
    "ax.set_xlim(lims)\n",
    "ax.set_ylim(lims)\n",
    "\n",
    "plt.xlabel('Predicted (Test Data)', fontsize=15)\n",
    "plt.ylabel('Actual (Test Data)', fontsize=15)"
   ]
  },
  {
   "cell_type": "markdown",
   "id": "16e2f789",
   "metadata": {},
   "source": [
    "# Hyperparameter tuning"
   ]
  },
  {
   "cell_type": "code",
   "execution_count": 432,
   "id": "f83c5070",
   "metadata": {},
   "outputs": [
    {
     "name": "stdout",
     "output_type": "stream",
     "text": [
      "{'bootstrap': True,\n",
      " 'ccp_alpha': 0.0,\n",
      " 'criterion': 'squared_error',\n",
      " 'max_depth': None,\n",
      " 'max_features': 'auto',\n",
      " 'max_leaf_nodes': None,\n",
      " 'max_samples': None,\n",
      " 'min_impurity_decrease': 0.0,\n",
      " 'min_samples_leaf': 1,\n",
      " 'min_samples_split': 2,\n",
      " 'min_weight_fraction_leaf': 0.0,\n",
      " 'n_estimators': 100,\n",
      " 'n_jobs': None,\n",
      " 'oob_score': False,\n",
      " 'random_state': 0,\n",
      " 'verbose': 0,\n",
      " 'warm_start': False}\n"
     ]
    }
   ],
   "source": [
    "rf = RandomForestRegressor(random_state = 0)\n",
    "from pprint import pprint\n",
    "#Available parameters:\n",
    "pprint(rf.get_params())"
   ]
  },
  {
   "cell_type": "code",
   "execution_count": 433,
   "id": "249e246b",
   "metadata": {},
   "outputs": [],
   "source": [
    "from sklearn.model_selection import RandomizedSearchCV"
   ]
  },
  {
   "cell_type": "code",
   "execution_count": 434,
   "id": "05eb386f",
   "metadata": {},
   "outputs": [
    {
     "name": "stdout",
     "output_type": "stream",
     "text": [
      "n_estimators [100, 200, 300, 400, 500, 600, 700, 800, 900, 1000, 1100, 1200, 1300, 1400, 1500, 1600, 1700, 1800, 1900, 2000, 2100, 2200, 2300, 2400, 2500, 2600, 2700, 2800, 2900, 3000, 3100, 3200, 3300, 3400, 3500, 3600, 3700, 3800, 3900, 4000, 4100, 4200, 4300, 4400, 4500, 4600, 4700, 4800, 4900, 5000] \n",
      "\n",
      "max_features ['auto', 'sqrt'] \n",
      "\n",
      "max_depth [5, 6, 8, 10, 12, 14, 16, 18, 20, 22, 24, 26, 28, 30, 32, 34, 36, 37, 39, 41, 43, 45, 47, 49, 51, 53, 55, 57, 59, 61, 63, 65, 67, 68, 70, 72, 74, 76, 78, 80, 82, 84, 86, 88, 90, 92, 94, 96, 98, 100, None] \n",
      "\n",
      "min_samples_split [2, 3, 4, 5, 6, 7, 8, 9, 10, 11] \n",
      "\n",
      "min_samples_leaf [1, 2, 3, 4, 5, 6, 7, 8, 9, 10] \n",
      "\n",
      "bootstrap [True, False] \n",
      "\n"
     ]
    }
   ],
   "source": [
    "n_estimators = [int(x) for x in np.linspace(start = 100, stop = 5000, num = 50)]\n",
    "max_features = ['auto', 'sqrt']\n",
    "max_depth = [int(x) for x in np.linspace(5, 100, num = 50)]\n",
    "max_depth.append(None)\n",
    "min_samples_split = [int(x) for x in np.linspace(2, 11, num = 10)]\n",
    "min_samples_leaf = [int(x) for x in np.linspace(1, 10, num = 10)]\n",
    "bootstrap = [True, False]\n",
    "\n",
    "random_grid = {'n_estimators': n_estimators,\n",
    "               'max_features': max_features,\n",
    "               'max_depth': max_depth,\n",
    "               'min_samples_split': min_samples_split,\n",
    "               'min_samples_leaf': min_samples_leaf,\n",
    "               'bootstrap': bootstrap}\n",
    "\n",
    "for k, v in random_grid.items():\n",
    "    print(k, v, \"\\n\")"
   ]
  },
  {
   "cell_type": "code",
   "execution_count": 435,
   "id": "274b6f9b",
   "metadata": {},
   "outputs": [],
   "source": [
    "rf = RandomForestRegressor()\n",
    "from sklearn.model_selection import RepeatedKFold\n",
    "rf_random = RandomizedSearchCV(estimator = rf,\n",
    "                               param_distributions = random_grid,\n",
    "                               n_iter = 100, \n",
    "                               cv = RepeatedKFold(n_splits = 2, n_repeats = 5),\n",
    "                               verbose = 100, random_state = 17, n_jobs = -1)"
   ]
  },
  {
   "cell_type": "code",
   "execution_count": 436,
   "id": "febeb526",
   "metadata": {},
   "outputs": [
    {
     "name": "stdout",
     "output_type": "stream",
     "text": [
      "Fitting 10 folds for each of 100 candidates, totalling 1000 fits\n",
      "--- 437.3504593372345 seconds ---\n"
     ]
    }
   ],
   "source": [
    "import time\n",
    "start_time = time.time()\n",
    "\n",
    "rf_random.fit(train_features, train_labels)\n",
    "\n",
    "print(\"--- %s seconds ---\" % (time.time() - start_time))\n"
   ]
  },
  {
   "cell_type": "code",
   "execution_count": 259,
   "id": "b96a9ef2",
   "metadata": {},
   "outputs": [
    {
     "name": "stdout",
     "output_type": "stream",
     "text": [
      "{'bootstrap': True,\n",
      " 'max_depth': 57,\n",
      " 'max_features': 'sqrt',\n",
      " 'min_samples_leaf': 1,\n",
      " 'min_samples_split': 4,\n",
      " 'n_estimators': 737}\n"
     ]
    }
   ],
   "source": [
    "opt1 = rf_random.best_params_\n",
    "\n",
    "pd.DataFrame(rf_random.cv_results_)\n",
    "pprint(opt1)"
   ]
  },
  {
   "cell_type": "code",
   "execution_count": 260,
   "id": "db02949a",
   "metadata": {},
   "outputs": [
    {
     "data": {
      "text/plain": [
       "RandomForestRegressor(max_depth=57, max_features='sqrt', min_samples_split=4,\n",
       "                      n_estimators=737, random_state=17)"
      ]
     },
     "execution_count": 260,
     "metadata": {},
     "output_type": "execute_result"
    }
   ],
   "source": [
    "rf = RandomForestRegressor(n_estimators = 737, random_state = 17, max_depth=57,\n",
    "                          max_features='sqrt', min_samples_leaf=1, min_samples_split=4)\n",
    "rf.fit(train_features, train_labels)"
   ]
  },
  {
   "cell_type": "code",
   "execution_count": 262,
   "id": "258b87a8",
   "metadata": {},
   "outputs": [
    {
     "name": "stdout",
     "output_type": "stream",
     "text": [
      "Average absolute error =  0.82 (deaths per 1000)\n"
     ]
    }
   ],
   "source": [
    "predictions = rf.predict(test_features)\n",
    "errors = abs(predictions - test_labels)\n",
    "print(\"Average absolute error = \", round(np.mean(errors), 2), \"(deaths per 1000)\")"
   ]
  },
  {
   "cell_type": "code",
   "execution_count": 263,
   "id": "18a2da4f",
   "metadata": {},
   "outputs": [
    {
     "name": "stdout",
     "output_type": "stream",
     "text": [
      "Average absolute error for training data =  0.21 (deaths per 1000)\n"
     ]
    },
    {
     "data": {
      "text/plain": [
       "Text(0, 0.5, 'Actual (Training data)')"
      ]
     },
     "execution_count": 263,
     "metadata": {},
     "output_type": "execute_result"
    },
    {
     "data": {
      "image/png": "[encoded data removed]",
      "text/plain": [
       "<Figure size 432x288 with 1 Axes>"
      ]
     },
     "metadata": {
      "needs_background": "light"
     },
     "output_type": "display_data"
    }
   ],
   "source": [
    "train_predictions = rf.predict(train_features)\n",
    "train_errors = abs(train_predictions - train_labels)\n",
    "print(\"Average absolute error for training data = \", round(np.mean(train_errors), 2), \"(deaths per 1000)\")\n",
    "\n",
    "fig, ax = plt.subplots()\n",
    "ax.scatter(x = train_predictions, y = train_labels)\n",
    "\n",
    "lims = [\n",
    "    np.min([ax.get_xlim(), ax.get_ylim()]),  # min of both axes\n",
    "    np.max([ax.get_xlim(), ax.get_ylim()]),  # max of both axes\n",
    "]\n",
    "\n",
    "# now plot both limits against eachother\n",
    "ax.plot(lims, lims, 'k-', alpha=0.75, zorder=0)\n",
    "ax.set_aspect('equal')\n",
    "ax.set_xlim(lims)\n",
    "ax.set_ylim(lims)\n",
    "\n",
    "plt.xlabel('Predicted (Training data)', fontsize=15)\n",
    "plt.ylabel('Actual (Training data)', fontsize=15)"
   ]
  },
  {
   "cell_type": "markdown",
   "id": "28112647",
   "metadata": {},
   "source": [
    "# Feature Selection"
   ]
  },
  {
   "cell_type": "code",
   "execution_count": 293,
   "id": "e80883b3",
   "metadata": {},
   "outputs": [
    {
     "name": "stdout",
     "output_type": "stream",
     "text": [
      "Features selected by SelectFromModel: ['Black(%)' 'Hispanic(%)' 'Drove Alone (%)' 'Number of households'\n",
      " 'Number of housing units' 'Owner Occupied (%)' 'Renter Occupied (%)'\n",
      " 'Asia(%)' 'Latin America(%)']\n",
      "Features selected by forward sequential selection: ['Median age' '65 and over(%)' 'Median household income (USD)'\n",
      " 'Below poverty line(%)' 'Mean travel time to work (Minutes)'\n",
      " 'Public Transit (%)' 'Single (%)' 'Occupied housing (%)'\n",
      " 'Vacant housing (%)' 'Asia(%)']\n",
      "Features selected by backward sequential selection: ['Median age' 'Under 18(%)' 'Per capita income (USD)'\n",
      " 'Below poverty line(%)' 'Occupied housing (%)' 'Vacant housing (%)'\n",
      " 'Owner Occupied (%)' 'Renter Occupied (%)' 'Median housing value'\n",
      " 'Asia(%)']\n"
     ]
    },
    {
     "data": {
      "image/png": "[encoded data removed]",
      "text/plain": [
       "<Figure size 432x288 with 1 Axes>"
      ]
     },
     "metadata": {
      "needs_background": "light"
     },
     "output_type": "display_data"
    }
   ],
   "source": [
    "from sklearn.feature_selection import SequentialFeatureSelector\n",
    "from sklearn.feature_selection import SelectFromModel\n",
    "from sklearn.linear_model import RidgeCV\n",
    "\n",
    "X, y = train_features, train_labels\n",
    "\n",
    "ridge = RidgeCV(alphas=np.logspace(-6, 6, num=5)).fit(X, y)\n",
    "\n",
    "importance = np.abs(ridge.coef_)\n",
    "feature_names = np.array(feature_list)\n",
    "\n",
    "plt.bar(height=importance, x = feature_list)\n",
    "\n",
    "threshold = np.sort(importance)[-10] + 0.0000001\n",
    "sfm = SelectFromModel(ridge, threshold = threshold).fit(X,y)\n",
    "print(f\"Features selected by SelectFromModel: {feature_names[sfm.get_support()]}\")\n",
    "\n",
    "\n",
    "sfs_forward = SequentialFeatureSelector(ridge, n_features_to_select=10, direction = \"forward\").fit(X, y)\n",
    "sfs_backward = SequentialFeatureSelector(ridge, n_features_to_select=10, direction=\"backward\").fit(X, y)\n",
    "\n",
    "print(\n",
    "    \"Features selected by forward sequential selection: \"\n",
    "    f\"{feature_names[sfs_forward.get_support()]}\"\n",
    ")\n",
    "\n",
    "print(\n",
    "    \"Features selected by backward sequential selection: \"\n",
    "    f\"{feature_names[sfs_backward.get_support()]}\"\n",
    ")\n"
   ]
  },
  {
   "cell_type": "markdown",
   "id": "efe8fc91",
   "metadata": {},
   "source": [
    "# Dimensional Reduction"
   ]
  },
  {
   "cell_type": "code",
   "execution_count": 363,
   "id": "b6dc10fc",
   "metadata": {},
   "outputs": [
    {
     "name": "stdout",
     "output_type": "stream",
     "text": [
      "(57, 21)\n"
     ]
    }
   ],
   "source": [
    "data_input = data.iloc[:,:-4]\n",
    "data_input = data_input.set_index('Zipcode')\n",
    "important_features = list(feature_importance['index'])\n",
    "data_input = data_input[important_features]\n",
    "features = np.array(data_input)\n",
    "feature_list = list(data_input.columns)\n",
    "\n",
    "X = data_input.values\n",
    "print(X.shape)\n",
    "\n",
    "from sklearn.preprocessing import StandardScaler\n",
    "\n",
    "scaler = StandardScaler()\n",
    "scaler.fit(X)\n",
    "\n",
    "X_scaled = scaler.transform(X)"
   ]
  },
  {
   "cell_type": "code",
   "execution_count": 301,
   "id": "e2d79d3b",
   "metadata": {},
   "outputs": [],
   "source": [
    "from sklearn.decomposition import PCA\n",
    "pca_21 = PCA(random_state = 17)\n",
    "pca_21.fit(X_scaled)\n",
    "X_pca_21 = pca_21.transform(X_scaled)"
   ]
  },
  {
   "cell_type": "code",
   "execution_count": 366,
   "id": "8dd49964",
   "metadata": {},
   "outputs": [
    {
     "name": "stdout",
     "output_type": "stream",
     "text": [
      "78.88034301444262\n",
      "69.36811639403248\n",
      "9.512226620410132\n",
      "_____\n",
      " [69.36811639  9.51222662]\n"
     ]
    },
    {
     "data": {
      "image/png": "[encoded data removed]",
      "text/plain": [
       "<Figure size 432x288 with 1 Axes>"
      ]
     },
     "metadata": {
      "needs_background": "light"
     },
     "output_type": "display_data"
    }
   ],
   "source": [
    "plt.plot(np.cumsum(pca_21.explained_variance_ratio_*100))\n",
    "plt.xlabel('number')\n",
    "plt.ylabel('%explained')\n",
    "\n",
    "print(np.cumsum(pca_2.explained_variance_ratio_*100)[1])\n",
    "print(np.cumsum(pca_2.explained_variance_ratio_*100)[0])\n",
    "print(np.cumsum(pca_2.explained_variance_ratio_*100)[1] - np.cumsum(pca_2.explained_variance_ratio_*100)[0])\n",
    "\n",
    "\n",
    "print(\"_____\\n\", pca_2.explained_variance_ratio_*100)"
   ]
  },
  {
   "cell_type": "code",
   "execution_count": 330,
   "id": "a454d1a4",
   "metadata": {},
   "outputs": [
    {
     "data": {
      "text/plain": [
       "Text(0.5, 1.0, 'PCA Analysis of Chicago Zipcodes \\nBased on Sociodemographic Characteristics \\n(Colored by Total COVID-19-Related Deaths per 1,000 People)')"
      ]
     },
     "execution_count": 330,
     "metadata": {},
     "output_type": "execute_result"
    },
    {
     "data": {
      "image/png": "[encoded data removed]",
      "text/plain": [
       "<Figure size 720x504 with 2 Axes>"
      ]
     },
     "metadata": {
      "needs_background": "light"
     },
     "output_type": "display_data"
    }
   ],
   "source": [
    "pca_2 = PCA(n_components=2, random_state=17)\n",
    "pca_2.fit(X_scaled)\n",
    "X_pca_2 = pca_2.transform(X_scaled)\n",
    "\n",
    "pc1 = X_pca_2[:,0]\n",
    "pc2 = X_pca_2[:,1]\n",
    "\n",
    "plt.figure(figsize=(10,7))\n",
    "plt.scatter(x = X_pca_2[:,0], y = X_pca_2[:,1], s = 70, c = labels_deaths, cmap = \"icefire\")\n",
    "\n",
    "sm = plt.cm.ScalarMappable(cmap='icefire',\n",
    "norm = plt.Normalize(vmin = np.min(labels_deaths),\n",
    "                     vmax = np.max(labels_deaths)))\n",
    "sm._A = []\n",
    "cbar = plt.colorbar(sm)\n",
    "\n",
    "plt.xlabel(\"PC 1 (69.4% of Variance)\")\n",
    "plt.ylabel(\"PC 2 (9.5% of Variance)\")\n",
    "plt.title(\"PCA Analysis of Chicago Zipcodes \\nBased on Sociodemographic Characteristics \\n(Colored by Total COVID-19-Related Deaths per 1,000 People)\")"
   ]
  },
  {
   "cell_type": "markdown",
   "id": "57b7a643",
   "metadata": {},
   "source": [
    "# Heatmaps with geopandas"
   ]
  },
  {
   "cell_type": "code",
   "execution_count": 57,
   "id": "936731fa",
   "metadata": {},
   "outputs": [],
   "source": [
    "import geopandas as gpd"
   ]
  },
  {
   "cell_type": "code",
   "execution_count": 113,
   "id": "b8b6ef49",
   "metadata": {},
   "outputs": [
    {
     "data": {
      "text/html": [
       "<div>\n",
       "<style scoped>\n",
       "    .dataframe tbody tr th:only-of-type {\n",
       "        vertical-align: middle;\n",
       "    }\n",
       "\n",
       "    .dataframe tbody tr th {\n",
       "        vertical-align: top;\n",
       "    }\n",
       "\n",
       "    .dataframe thead th {\n",
       "        text-align: right;\n",
       "    }\n",
       "</style>\n",
       "<table border=\"1\" class=\"dataframe\">\n",
       "  <thead>\n",
       "    <tr style=\"text-align: right;\">\n",
       "      <th></th>\n",
       "      <th>objectid</th>\n",
       "      <th>shape_area</th>\n",
       "      <th>shape_len</th>\n",
       "      <th>zip</th>\n",
       "      <th>geometry</th>\n",
       "      <th>Zipcode</th>\n",
       "      <th>Population</th>\n",
       "      <th>Median age</th>\n",
       "      <th>Under 18(%)</th>\n",
       "      <th>18 to 64(%)</th>\n",
       "      <th>...</th>\n",
       "      <th>Europe(%)</th>\n",
       "      <th>Asia(%)</th>\n",
       "      <th>Africa(%)</th>\n",
       "      <th>Oceania(%)</th>\n",
       "      <th>Latin America(%)</th>\n",
       "      <th>North America(%)</th>\n",
       "      <th>Death Counts</th>\n",
       "      <th>Death Counts(Per 1000)</th>\n",
       "      <th>Case Counts</th>\n",
       "      <th>Case Counts(Per 1000)</th>\n",
       "    </tr>\n",
       "  </thead>\n",
       "  <tbody>\n",
       "    <tr>\n",
       "      <th>0</th>\n",
       "      <td>33.0</td>\n",
       "      <td>1.060523e+08</td>\n",
       "      <td>42720.044406</td>\n",
       "      <td>60647</td>\n",
       "      <td>POLYGON ((-87.67762 41.91776, -87.67761 41.917...</td>\n",
       "      <td>60647</td>\n",
       "      <td>85658</td>\n",
       "      <td>32.2</td>\n",
       "      <td>17.56</td>\n",
       "      <td>75.14</td>\n",
       "      <td>...</td>\n",
       "      <td>14.76</td>\n",
       "      <td>14.11</td>\n",
       "      <td>1.67</td>\n",
       "      <td>0.68</td>\n",
       "      <td>66.31</td>\n",
       "      <td>2.47</td>\n",
       "      <td>184</td>\n",
       "      <td>2.15</td>\n",
       "      <td>17196</td>\n",
       "      <td>200.75</td>\n",
       "    </tr>\n",
       "    <tr>\n",
       "      <th>1</th>\n",
       "      <td>34.0</td>\n",
       "      <td>1.274761e+08</td>\n",
       "      <td>48103.782721</td>\n",
       "      <td>60639</td>\n",
       "      <td>POLYGON ((-87.72683 41.92265, -87.72693 41.922...</td>\n",
       "      <td>60639</td>\n",
       "      <td>88515</td>\n",
       "      <td>34.6</td>\n",
       "      <td>26.29</td>\n",
       "      <td>62.24</td>\n",
       "      <td>...</td>\n",
       "      <td>4.69</td>\n",
       "      <td>2.99</td>\n",
       "      <td>0.61</td>\n",
       "      <td>0.00</td>\n",
       "      <td>91.67</td>\n",
       "      <td>0.03</td>\n",
       "      <td>278</td>\n",
       "      <td>3.14</td>\n",
       "      <td>24130</td>\n",
       "      <td>272.61</td>\n",
       "    </tr>\n",
       "    <tr>\n",
       "      <th>2</th>\n",
       "      <td>35.0</td>\n",
       "      <td>4.506904e+07</td>\n",
       "      <td>27288.609612</td>\n",
       "      <td>60707</td>\n",
       "      <td>POLYGON ((-87.78500 41.90915, -87.78531 41.909...</td>\n",
       "      <td>60707</td>\n",
       "      <td>42434</td>\n",
       "      <td>40.0</td>\n",
       "      <td>21.06</td>\n",
       "      <td>63.60</td>\n",
       "      <td>...</td>\n",
       "      <td>42.45</td>\n",
       "      <td>11.93</td>\n",
       "      <td>0.98</td>\n",
       "      <td>0.00</td>\n",
       "      <td>44.29</td>\n",
       "      <td>0.34</td>\n",
       "      <td>130</td>\n",
       "      <td>3.06</td>\n",
       "      <td>4235</td>\n",
       "      <td>99.80</td>\n",
       "    </tr>\n",
       "    <tr>\n",
       "      <th>3</th>\n",
       "      <td>36.0</td>\n",
       "      <td>7.085383e+07</td>\n",
       "      <td>42527.989679</td>\n",
       "      <td>60622</td>\n",
       "      <td>POLYGON ((-87.66707 41.88885, -87.66707 41.888...</td>\n",
       "      <td>60622</td>\n",
       "      <td>52957</td>\n",
       "      <td>32.2</td>\n",
       "      <td>13.41</td>\n",
       "      <td>79.84</td>\n",
       "      <td>...</td>\n",
       "      <td>38.17</td>\n",
       "      <td>19.04</td>\n",
       "      <td>1.60</td>\n",
       "      <td>0.50</td>\n",
       "      <td>38.03</td>\n",
       "      <td>2.65</td>\n",
       "      <td>89</td>\n",
       "      <td>1.68</td>\n",
       "      <td>11074</td>\n",
       "      <td>209.11</td>\n",
       "    </tr>\n",
       "    <tr>\n",
       "      <th>4</th>\n",
       "      <td>37.0</td>\n",
       "      <td>9.903962e+07</td>\n",
       "      <td>47970.140153</td>\n",
       "      <td>60651</td>\n",
       "      <td>POLYGON ((-87.70656 41.89555, -87.70672 41.895...</td>\n",
       "      <td>60651</td>\n",
       "      <td>63679</td>\n",
       "      <td>33.9</td>\n",
       "      <td>26.37</td>\n",
       "      <td>61.38</td>\n",
       "      <td>...</td>\n",
       "      <td>1.55</td>\n",
       "      <td>2.46</td>\n",
       "      <td>0.89</td>\n",
       "      <td>0.00</td>\n",
       "      <td>94.89</td>\n",
       "      <td>0.21</td>\n",
       "      <td>182</td>\n",
       "      <td>2.86</td>\n",
       "      <td>14030</td>\n",
       "      <td>220.32</td>\n",
       "    </tr>\n",
       "  </tbody>\n",
       "</table>\n",
       "<p>5 rows × 59 columns</p>\n",
       "</div>"
      ],
      "text/plain": [
       "   objectid    shape_area     shape_len    zip  \\\n",
       "0      33.0  1.060523e+08  42720.044406  60647   \n",
       "1      34.0  1.274761e+08  48103.782721  60639   \n",
       "2      35.0  4.506904e+07  27288.609612  60707   \n",
       "3      36.0  7.085383e+07  42527.989679  60622   \n",
       "4      37.0  9.903962e+07  47970.140153  60651   \n",
       "\n",
       "                                            geometry  Zipcode  Population  \\\n",
       "0  POLYGON ((-87.67762 41.91776, -87.67761 41.917...    60647       85658   \n",
       "1  POLYGON ((-87.72683 41.92265, -87.72693 41.922...    60639       88515   \n",
       "2  POLYGON ((-87.78500 41.90915, -87.78531 41.909...    60707       42434   \n",
       "3  POLYGON ((-87.66707 41.88885, -87.66707 41.888...    60622       52957   \n",
       "4  POLYGON ((-87.70656 41.89555, -87.70672 41.895...    60651       63679   \n",
       "\n",
       "   Median age  Under 18(%)  18 to 64(%)  ...  Europe(%)  Asia(%)  Africa(%)  \\\n",
       "0        32.2        17.56        75.14  ...      14.76    14.11       1.67   \n",
       "1        34.6        26.29        62.24  ...       4.69     2.99       0.61   \n",
       "2        40.0        21.06        63.60  ...      42.45    11.93       0.98   \n",
       "3        32.2        13.41        79.84  ...      38.17    19.04       1.60   \n",
       "4        33.9        26.37        61.38  ...       1.55     2.46       0.89   \n",
       "\n",
       "   Oceania(%)  Latin America(%)  North America(%)  Death Counts  \\\n",
       "0        0.68             66.31              2.47           184   \n",
       "1        0.00             91.67              0.03           278   \n",
       "2        0.00             44.29              0.34           130   \n",
       "3        0.50             38.03              2.65            89   \n",
       "4        0.00             94.89              0.21           182   \n",
       "\n",
       "   Death Counts(Per 1000)  Case Counts  Case Counts(Per 1000)  \n",
       "0                    2.15        17196                 200.75  \n",
       "1                    3.14        24130                 272.61  \n",
       "2                    3.06         4235                  99.80  \n",
       "3                    1.68        11074                 209.11  \n",
       "4                    2.86        14030                 220.32  \n",
       "\n",
       "[5 rows x 59 columns]"
      ]
     },
     "execution_count": 113,
     "metadata": {},
     "output_type": "execute_result"
    }
   ],
   "source": [
    "filepath = \"geo_export_0f069f65-3738-4d0d-b110-e78d1bab253a.shp\"\n",
    "map_df = gpd.read_file(filepath)\n",
    "\n",
    "data[\"zip\"] = data[\"Zipcode\"].apply(str)\n",
    "map_df_filtered = map_df[map_df[\"zip\"].isin(data[\"zip\"])]\n",
    "\n",
    "\n",
    "#map_df_filtered.head()\n",
    "\n",
    "map_data = map_df_filtered.merge(data, how = \"left\", on = \"zip\")\n"
   ]
  },
  {
   "cell_type": "code",
   "execution_count": 141,
   "id": "75e42992",
   "metadata": {},
   "outputs": [],
   "source": [
    "def plot_heatmap(df, feature, palette, title = \"feature\"):\n",
    "    \n",
    "    \"\"\"\n",
    "    Plots a colored heatmap from geographic data.\n",
    "    \n",
    "    input 'df' should be a GeoPandas dataframe\n",
    "    'feature' is the name of the variable from 'df' that you want to plot\n",
    "    'palette' is a pyplot color palette\n",
    "    'title' is the figure title; by default it is the same as the plotted variable name\n",
    "    \"\"\"\n",
    "    \n",
    "    \n",
    "    fig, ax = plt.subplots(1, figsize = (10,10))\n",
    "    map_data.plot(column = feature, cmap = palette, linewidth = 0.8, ax = ax, edgecolor = \"0.8\")\n",
    "    ax.axis(\"off\")\n",
    "    if title == \"feature\":\n",
    "        ax.set_title(feature)\n",
    "    else:\n",
    "        ax.set_title(title)\n",
    "\n",
    "    sm = plt.cm.ScalarMappable(cmap=palette,\n",
    "    norm = plt.Normalize(vmin = np.min(map_data[feature]),\n",
    "                         vmax = np.max(map_data[feature])))\n",
    "    sm._A = []\n",
    "    cbar = fig.colorbar(sm)"
   ]
  },
  {
   "cell_type": "code",
   "execution_count": 142,
   "id": "326d8106",
   "metadata": {},
   "outputs": [
    {
     "data": {
      "image/png": "[encoded data removed]",
      "text/plain": [
       "<Figure size 720x720 with 2 Axes>"
      ]
     },
     "metadata": {
      "needs_background": "light"
     },
     "output_type": "display_data"
    }
   ],
   "source": [
    "plot_heatmap(map_data, \"Death Counts(Per 1000)\", \"Reds\")"
   ]
  },
  {
   "cell_type": "code",
   "execution_count": 152,
   "id": "8ae5e253",
   "metadata": {},
   "outputs": [
    {
     "data": {
      "image/png": "[encoded data removed]",
      "text/plain": [
       "<Figure size 720x720 with 2 Axes>"
      ]
     },
     "metadata": {
      "needs_background": "light"
     },
     "output_type": "display_data"
    }
   ],
   "source": [
    "plot_heatmap(map_data, \"Case Counts(Per 1000)\", \"Reds\", \"Cases per 1,000 People\")"
   ]
  },
  {
   "cell_type": "code",
   "execution_count": 147,
   "id": "d4b074ee",
   "metadata": {
    "scrolled": true
   },
   "outputs": [
    {
     "data": {
      "image/png": "[encoded data removed]",
      "text/plain": [
       "<Figure size 720x720 with 2 Axes>"
      ]
     },
     "metadata": {
      "needs_background": "light"
     },
     "output_type": "display_data"
    }
   ],
   "source": [
    "plot_heatmap(map_data, \"Median age\", \"viridis\")"
   ]
  },
  {
   "cell_type": "code",
   "execution_count": 413,
   "id": "e0742fb2",
   "metadata": {},
   "outputs": [
    {
     "data": {
      "image/png": "[encoded data removed]",
      "text/plain": [
       "<Figure size 720x504 with 2 Axes>"
      ]
     },
     "metadata": {
      "needs_background": "light"
     },
     "output_type": "display_data"
    }
   ],
   "source": [
    "#Test PCA functions\n",
    "\n",
    "def scale_df(X):\n",
    "    scaler = StandardScaler()\n",
    "    scaler.fit(X)\n",
    "    X_scaled = scaler.transform(X)\n",
    "    return X_scaled\n",
    "\n",
    "def PCA_2(X, random_state = 17):\n",
    "    pca_2 = PCA(n_components = 2, random_state = random_state)\n",
    "    X_scaled = scale_df(X)\n",
    "    pca_2.fit(X_scaled)\n",
    "    X_pca_2 = pca_2.transform(X_scaled)\n",
    "    return pca_2, X_pca_2\n",
    "\n",
    "def plot_pca(pca_data, pca_model, labels, title, cmap = \"icefire\"):\n",
    "    pc1 = pca_data[:,0]\n",
    "    pc2 = pca_data[:,1]\n",
    "    plt.figure(figsize=(10,7))\n",
    "    plt.scatter(x = pc1, y = pc2, s = 70,\n",
    "                c = labels, cmap = cmap)\n",
    "    sm = plt.cm.ScalarMappable(cmap = cmap,\n",
    "                               norm = plt.Normalize(vmin = np.min(labels), \n",
    "                                                    vmax = np.max(labels)))\n",
    "    sm._A = []\n",
    "    cbar = plt.colorbar(sm)\n",
    "    \n",
    "    perc_explained = pca_model.explained_variance_ratio_*100\n",
    "    expl_1 = round(perc_explained[0],2)\n",
    "    expl_2 = round(perc_explained[1],2)\n",
    "    \n",
    "    plt.xlabel(\"PC 1 (\" + str(expl_1) + \"% of Variance)\")\n",
    "    plt.ylabel(\"PC 2 (\" + str(expl_2) + \"% of Variance)\")\n",
    "    plt.title(title)\n",
    "    plt.show()\n",
    "    \n",
    "scaled = scale_df(X)\n",
    "pca2, xpca2 = PCA_2(scaled)\n",
    "pca2.explained_variance_ratio_\n",
    "plot_pca(xpca2, pca2, labels_deaths, \"Test\")"
   ]
  },
  {
   "cell_type": "code",
   "execution_count": 417,
   "id": "2cae8c9d",
   "metadata": {},
   "outputs": [
    {
     "data": {
      "image/png": "[encoded data removed]",
      "text/plain": [
       "<Figure size 720x504 with 2 Axes>"
      ]
     },
     "metadata": {
      "needs_background": "light"
     },
     "output_type": "display_data"
    }
   ],
   "source": [
    "from PCA_analysis import *"
   ]
  }
 ],
 "metadata": {
  "kernelspec": {
   "display_name": "Python 3 (ipykernel)",
   "language": "python",
   "name": "python3"
  },
  "language_info": {
   "codemirror_mode": {
    "name": "ipython",
    "version": 3
   },
   "file_extension": ".py",
   "mimetype": "text/x-python",
   "name": "python",
   "nbconvert_exporter": "python",
   "pygments_lexer": "ipython3",
   "version": "3.9.7"
  }
 },
 "nbformat": 4,
 "nbformat_minor": 5
}
