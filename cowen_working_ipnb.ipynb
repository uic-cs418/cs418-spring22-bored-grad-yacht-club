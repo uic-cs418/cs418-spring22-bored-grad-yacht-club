{
 "cells": [
  {
   "cell_type": "code",
   "execution_count": 17,
   "id": "93b24c2a",
   "metadata": {},
   "outputs": [],
   "source": [
    "import pandas as pd\n",
    "import numpy as np\n",
    "import seaborn as sns\n",
    "import matplotlib.pyplot as plt\n",
    "import sklearn\n"
   ]
  },
  {
   "cell_type": "code",
   "execution_count": 4,
   "id": "3668dedb",
   "metadata": {},
   "outputs": [],
   "source": [
    "data = pd.read_csv('Chicago-Covid-SocioDemographics-Cases-Deaths.csv')"
   ]
  },
  {
   "cell_type": "code",
   "execution_count": 6,
   "id": "510ff69f",
   "metadata": {
    "scrolled": false
   },
   "outputs": [
    {
     "data": {
      "text/html": [
       "<div>\n",
       "<style scoped>\n",
       "    .dataframe tbody tr th:only-of-type {\n",
       "        vertical-align: middle;\n",
       "    }\n",
       "\n",
       "    .dataframe tbody tr th {\n",
       "        vertical-align: top;\n",
       "    }\n",
       "\n",
       "    .dataframe thead th {\n",
       "        text-align: right;\n",
       "    }\n",
       "</style>\n",
       "<table border=\"1\" class=\"dataframe\">\n",
       "  <thead>\n",
       "    <tr style=\"text-align: right;\">\n",
       "      <th></th>\n",
       "      <th>Zipcode</th>\n",
       "      <th>Population</th>\n",
       "      <th>Median age</th>\n",
       "      <th>Under 18(%)</th>\n",
       "      <th>18 to 64(%)</th>\n",
       "      <th>65 and over(%)</th>\n",
       "      <th>Male(%)</th>\n",
       "      <th>Female(%)</th>\n",
       "      <th>White(%)</th>\n",
       "      <th>Black(%)</th>\n",
       "      <th>...</th>\n",
       "      <th>Europe(%)</th>\n",
       "      <th>Asia(%)</th>\n",
       "      <th>Africa(%)</th>\n",
       "      <th>Oceania(%)</th>\n",
       "      <th>Latin America(%)</th>\n",
       "      <th>North America(%)</th>\n",
       "      <th>Death Counts</th>\n",
       "      <th>Death Counts(Per 1000)</th>\n",
       "      <th>Case Counts</th>\n",
       "      <th>Case Counts(Per 1000)</th>\n",
       "    </tr>\n",
       "  </thead>\n",
       "  <tbody>\n",
       "    <tr>\n",
       "      <th>0</th>\n",
       "      <td>60647</td>\n",
       "      <td>85658</td>\n",
       "      <td>32.2</td>\n",
       "      <td>17.56</td>\n",
       "      <td>75.14</td>\n",
       "      <td>7.30</td>\n",
       "      <td>49.75</td>\n",
       "      <td>50.25</td>\n",
       "      <td>48.50</td>\n",
       "      <td>4.72</td>\n",
       "      <td>...</td>\n",
       "      <td>14.76</td>\n",
       "      <td>14.11</td>\n",
       "      <td>1.67</td>\n",
       "      <td>0.68</td>\n",
       "      <td>66.31</td>\n",
       "      <td>2.47</td>\n",
       "      <td>184</td>\n",
       "      <td>2.15</td>\n",
       "      <td>17196</td>\n",
       "      <td>200.75</td>\n",
       "    </tr>\n",
       "    <tr>\n",
       "      <th>1</th>\n",
       "      <td>60639</td>\n",
       "      <td>88515</td>\n",
       "      <td>34.6</td>\n",
       "      <td>26.29</td>\n",
       "      <td>62.24</td>\n",
       "      <td>11.47</td>\n",
       "      <td>49.90</td>\n",
       "      <td>50.10</td>\n",
       "      <td>8.07</td>\n",
       "      <td>13.24</td>\n",
       "      <td>...</td>\n",
       "      <td>4.69</td>\n",
       "      <td>2.99</td>\n",
       "      <td>0.61</td>\n",
       "      <td>0.00</td>\n",
       "      <td>91.67</td>\n",
       "      <td>0.03</td>\n",
       "      <td>278</td>\n",
       "      <td>3.14</td>\n",
       "      <td>24130</td>\n",
       "      <td>272.61</td>\n",
       "    </tr>\n",
       "    <tr>\n",
       "      <th>2</th>\n",
       "      <td>60707</td>\n",
       "      <td>42434</td>\n",
       "      <td>40.0</td>\n",
       "      <td>21.06</td>\n",
       "      <td>63.60</td>\n",
       "      <td>15.33</td>\n",
       "      <td>47.33</td>\n",
       "      <td>52.67</td>\n",
       "      <td>46.85</td>\n",
       "      <td>6.63</td>\n",
       "      <td>...</td>\n",
       "      <td>42.45</td>\n",
       "      <td>11.93</td>\n",
       "      <td>0.98</td>\n",
       "      <td>0.00</td>\n",
       "      <td>44.29</td>\n",
       "      <td>0.34</td>\n",
       "      <td>130</td>\n",
       "      <td>3.06</td>\n",
       "      <td>4235</td>\n",
       "      <td>99.80</td>\n",
       "    </tr>\n",
       "    <tr>\n",
       "      <th>3</th>\n",
       "      <td>60622</td>\n",
       "      <td>52957</td>\n",
       "      <td>32.2</td>\n",
       "      <td>13.41</td>\n",
       "      <td>79.84</td>\n",
       "      <td>6.75</td>\n",
       "      <td>50.64</td>\n",
       "      <td>49.36</td>\n",
       "      <td>64.44</td>\n",
       "      <td>5.35</td>\n",
       "      <td>...</td>\n",
       "      <td>38.17</td>\n",
       "      <td>19.04</td>\n",
       "      <td>1.60</td>\n",
       "      <td>0.50</td>\n",
       "      <td>38.03</td>\n",
       "      <td>2.65</td>\n",
       "      <td>89</td>\n",
       "      <td>1.68</td>\n",
       "      <td>11074</td>\n",
       "      <td>209.11</td>\n",
       "    </tr>\n",
       "    <tr>\n",
       "      <th>4</th>\n",
       "      <td>60651</td>\n",
       "      <td>63679</td>\n",
       "      <td>33.9</td>\n",
       "      <td>26.37</td>\n",
       "      <td>61.38</td>\n",
       "      <td>12.25</td>\n",
       "      <td>46.37</td>\n",
       "      <td>53.63</td>\n",
       "      <td>5.00</td>\n",
       "      <td>53.02</td>\n",
       "      <td>...</td>\n",
       "      <td>1.55</td>\n",
       "      <td>2.46</td>\n",
       "      <td>0.89</td>\n",
       "      <td>0.00</td>\n",
       "      <td>94.89</td>\n",
       "      <td>0.21</td>\n",
       "      <td>182</td>\n",
       "      <td>2.86</td>\n",
       "      <td>14030</td>\n",
       "      <td>220.32</td>\n",
       "    </tr>\n",
       "  </tbody>\n",
       "</table>\n",
       "<p>5 rows × 54 columns</p>\n",
       "</div>"
      ],
      "text/plain": [
       "   Zipcode  Population  Median age  Under 18(%)  18 to 64(%)  65 and over(%)  \\\n",
       "0    60647       85658        32.2        17.56        75.14            7.30   \n",
       "1    60639       88515        34.6        26.29        62.24           11.47   \n",
       "2    60707       42434        40.0        21.06        63.60           15.33   \n",
       "3    60622       52957        32.2        13.41        79.84            6.75   \n",
       "4    60651       63679        33.9        26.37        61.38           12.25   \n",
       "\n",
       "   Male(%)  Female(%)  White(%)  Black(%)  ...  Europe(%)  Asia(%)  Africa(%)  \\\n",
       "0    49.75      50.25     48.50      4.72  ...      14.76    14.11       1.67   \n",
       "1    49.90      50.10      8.07     13.24  ...       4.69     2.99       0.61   \n",
       "2    47.33      52.67     46.85      6.63  ...      42.45    11.93       0.98   \n",
       "3    50.64      49.36     64.44      5.35  ...      38.17    19.04       1.60   \n",
       "4    46.37      53.63      5.00     53.02  ...       1.55     2.46       0.89   \n",
       "\n",
       "   Oceania(%)  Latin America(%)  North America(%)  Death Counts  \\\n",
       "0        0.68             66.31              2.47           184   \n",
       "1        0.00             91.67              0.03           278   \n",
       "2        0.00             44.29              0.34           130   \n",
       "3        0.50             38.03              2.65            89   \n",
       "4        0.00             94.89              0.21           182   \n",
       "\n",
       "   Death Counts(Per 1000)  Case Counts  Case Counts(Per 1000)  \n",
       "0                    2.15        17196                 200.75  \n",
       "1                    3.14        24130                 272.61  \n",
       "2                    3.06         4235                  99.80  \n",
       "3                    1.68        11074                 209.11  \n",
       "4                    2.86        14030                 220.32  \n",
       "\n",
       "[5 rows x 54 columns]"
      ]
     },
     "execution_count": 6,
     "metadata": {},
     "output_type": "execute_result"
    }
   ],
   "source": [
    "data.head()"
   ]
  },
  {
   "cell_type": "code",
   "execution_count": 155,
   "id": "6d98a762",
   "metadata": {},
   "outputs": [
    {
     "name": "stdout",
     "output_type": "stream",
     "text": [
      "                                 index  Death Counts(Per 1000)\n",
      "20                    Latin America(%)                    0.50\n",
      "4                             Asian(%)                    0.51\n",
      "14                        No Degree(%)                    0.52\n",
      "8                      Drove Alone (%)                    0.52\n",
      "10               Persons per household                    0.53\n",
      "6        Median household income (USD)                    0.54\n",
      "3                             Black(%)                    0.54\n",
      "5              Per capita income (USD)                    0.58\n",
      "9                           Walked (%)                    0.58\n",
      "2                             White(%)                    0.59\n",
      "12            Moved Since Prev Year(%)                    0.59\n",
      "13             Same House Prev Year(%)                    0.59\n",
      "18                        Post-grad(%)                    0.63\n",
      "0                          Under 18(%)                    0.63\n",
      "19                             Asia(%)                    0.64\n",
      "11                Median housing value                    0.66\n",
      "1                          18 to 64(%)                    0.66\n",
      "16                     Some College(%)                    0.66\n",
      "15                      High School(%)                    0.69\n",
      "17                       Bachelor's(%)                    0.69\n",
      "7   Mean travel time to work (Minutes)                    0.73\n"
     ]
    }
   ],
   "source": [
    "cormat = data.corr().abs()\n",
    "cormat = cormat[cormat>0.5]\n",
    "feature_importance = round(cormat,2).dropna(subset=['Death Counts(Per 1000)'])['Death Counts(Per 1000)'].to_frame().reset_index()\n",
    "feature_importance = feature_importance[:-2]\n",
    "feature_importance = feature_importance.sort_values(by='Death Counts(Per 1000)')\n",
    "\n",
    "print(feature_importance)"
   ]
  },
  {
   "cell_type": "markdown",
   "id": "3ff2dd47",
   "metadata": {},
   "source": [
    "# Random Forest Analysis"
   ]
  },
  {
   "cell_type": "code",
   "execution_count": 333,
   "id": "7da90de4",
   "metadata": {},
   "outputs": [
    {
     "name": "stdout",
     "output_type": "stream",
     "text": [
      "['Population', 'Median age', 'Under 18(%)', '18 to 64(%)', '65 and over(%)', 'Male(%)', 'Female(%)', 'White(%)', 'Black(%)', 'Native(%)', 'Asian(%)', 'Islander(%)', 'Two plus(%)', 'Hispanic(%)', 'Per capita income (USD)', 'Median household income (USD)', 'Below poverty line(%)', 'Mean travel time to work (Minutes)', 'Drove Alone (%)', 'Carpooled (%)', 'Public Transit (%)', 'Bicycle (%)', 'Walked (%)', 'Other (%)', 'Worked at home (%)', 'Number of households', 'Persons per household', 'Married (%)', 'Single (%)', 'Number of housing units', 'Occupied housing (%)', 'Vacant housing (%)', 'Owner Occupied (%)', 'Renter Occupied (%)', 'Median housing value', 'Moved Since Prev Year(%)', 'Same House Prev Year(%)', 'No Degree(%)', 'High School(%)', 'Some College(%)', \"Bachelor's(%)\", 'Post-grad(%)', 'Foriegn Born Population(%)', 'Europe(%)', 'Asia(%)', 'Africa(%)', 'Oceania(%)', 'Latin America(%)', 'North America(%)']\n"
     ]
    }
   ],
   "source": [
    "data_input = data.iloc[:,:-5]\n",
    "data_input = data_input.set_index('Zipcode')\n",
    "features = np.array(data_input)\n",
    "feature_list = list(data_input.columns)\n",
    "\n",
    "#print(data_input.head())\n",
    "#print(features[0:10,:])\n",
    "print(feature_list)"
   ]
  },
  {
   "cell_type": "code",
   "execution_count": 334,
   "id": "68ea7805",
   "metadata": {},
   "outputs": [
    {
     "data": {
      "text/plain": [
       "array([2.15, 3.14, 3.06, 1.68, 2.86, 0.83, 2.87, 3.03, 3.74, 1.6 , 5.09,\n",
       "       2.98, 3.66, 2.15, 2.64, 1.52, 4.02, 3.37, 4.78, 3.04, 2.55, 0.71,\n",
       "       4.76, 5.25, 2.7 , 1.81, 3.23, 2.74, 2.85, 2.35, 4.22, 1.73, 0.84,\n",
       "       0.39, 2.92, 3.44, 1.61, 2.09, 3.13, 0.62, 2.17, 0.49, 0.62, 1.87,\n",
       "       3.14, 1.24, 2.53, 3.02, 1.07, 1.12, 0.24, 2.78, 3.95, 2.95, 3.61,\n",
       "       1.87, 3.32])"
      ]
     },
     "execution_count": 334,
     "metadata": {},
     "output_type": "execute_result"
    }
   ],
   "source": [
    "labels_deaths = np.array(data['Death Counts(Per 1000)'])\n",
    "labels_deaths"
   ]
  },
  {
   "cell_type": "code",
   "execution_count": 335,
   "id": "9e71d9fb",
   "metadata": {},
   "outputs": [],
   "source": [
    "from sklearn.model_selection import train_test_split"
   ]
  },
  {
   "cell_type": "code",
   "execution_count": 336,
   "id": "8b9d743e",
   "metadata": {},
   "outputs": [],
   "source": [
    "train_features, test_features, train_labels, test_labels = train_test_split(features, labels_deaths, test_size = 0.33, random_state = 17)"
   ]
  },
  {
   "cell_type": "code",
   "execution_count": 337,
   "id": "ec821c72",
   "metadata": {},
   "outputs": [
    {
     "name": "stdout",
     "output_type": "stream",
     "text": [
      "Training Features Shape: (38, 49)\n",
      "Training Labels Shape: (38,)\n",
      "Testing Features Shape: (19, 49)\n",
      "Testing Labels Shape: (19,)\n"
     ]
    }
   ],
   "source": [
    "print('Training Features Shape:', train_features.shape)\n",
    "print('Training Labels Shape:', train_labels.shape)\n",
    "print('Testing Features Shape:', test_features.shape)\n",
    "print('Testing Labels Shape:', test_labels.shape)"
   ]
  },
  {
   "cell_type": "code",
   "execution_count": 338,
   "id": "bab6bb6a",
   "metadata": {
    "scrolled": true
   },
   "outputs": [
    {
     "name": "stdout",
     "output_type": "stream",
     "text": [
      "[2.74 2.74 2.74 2.74 2.74 2.74 2.74 2.74 2.74 2.74 2.74 2.74 2.74 2.74\n",
      " 2.74 2.74 2.74 2.74 2.74 2.74 2.74 2.74 2.74 2.74 2.74 2.74 2.74 2.74\n",
      " 2.74 2.74 2.74 2.74 2.74 2.74 2.74 2.74 2.74 2.74 2.74 2.74 2.74 2.74\n",
      " 2.74 2.74 2.74 2.74 2.74 2.74 2.74 2.74 2.74 2.74 2.74 2.74 2.74 2.74\n",
      " 2.74]\n",
      "[0.59 0.4  0.32 1.06 0.12 1.91 0.13 0.29 1.   1.14 2.35 0.24 0.92 0.59\n",
      " 0.1  1.22 1.28 0.63 2.04 0.3  0.19 2.03 2.02 2.51 0.04 0.93 0.49 0.\n",
      " 0.11 0.39 1.48 1.01 1.9  2.35 0.18 0.7  1.13 0.65 0.39 2.12 0.57 2.25\n",
      " 2.12 0.87 0.4  1.5  0.21 0.28 1.67 1.62 2.5  0.04 1.21 0.21 0.87 0.87\n",
      " 0.58]\n",
      "Average baseline error =  0.9652631578947368 (deaths per 1000)\n"
     ]
    }
   ],
   "source": [
    "median_deaths = np.median(labels_deaths)\n",
    "baseline_pred = np.repeat(median_deaths, len(labels_deaths))\n",
    "print(baseline_pred)\n",
    "baseline_errors = abs(baseline_pred - labels_deaths)\n",
    "print(baseline_errors)\n",
    "\n",
    "print(\"Average baseline error = \", np.mean(baseline_errors), \"(deaths per 1000)\")"
   ]
  },
  {
   "cell_type": "code",
   "execution_count": 339,
   "id": "03756e9f",
   "metadata": {},
   "outputs": [],
   "source": [
    "from sklearn.ensemble import RandomForestRegressor"
   ]
  },
  {
   "cell_type": "code",
   "execution_count": 340,
   "id": "fbe67212",
   "metadata": {},
   "outputs": [
    {
     "data": {
      "text/plain": [
       "RandomForestRegressor(n_estimators=1000, random_state=17)"
      ]
     },
     "execution_count": 340,
     "metadata": {},
     "output_type": "execute_result"
    }
   ],
   "source": [
    "rf = RandomForestRegressor(n_estimators = 1000, random_state = 17)\n",
    "rf.fit(train_features, train_labels)"
   ]
  },
  {
   "cell_type": "code",
   "execution_count": 341,
   "id": "b8a22102",
   "metadata": {},
   "outputs": [
    {
     "name": "stdout",
     "output_type": "stream",
     "text": [
      "Average absolute error =  0.87 (deaths per 1000)\n"
     ]
    }
   ],
   "source": [
    "predictions = rf.predict(test_features)\n",
    "errors = abs(predictions - test_labels)\n",
    "print(\"Average absolute error = \", round(np.mean(errors), 2), \"(deaths per 1000)\")"
   ]
  },
  {
   "cell_type": "code",
   "execution_count": 342,
   "id": "dadda7a8",
   "metadata": {},
   "outputs": [
    {
     "name": "stdout",
     "output_type": "stream",
     "text": [
      "Average absolute error for training data =  0.21 (deaths per 1000)\n"
     ]
    },
    {
     "data": {
      "text/plain": [
       "Text(0, 0.5, 'Actual (Training data)')"
      ]
     },
     "execution_count": 342,
     "metadata": {},
     "output_type": "execute_result"
    },
    {
     "data": {
      "image/png": "[encoded data removed]",
      "text/plain": [
       "<Figure size 432x288 with 1 Axes>"
      ]
     },
     "metadata": {
      "needs_background": "light"
     },
     "output_type": "display_data"
    }
   ],
   "source": [
    "#Compute/plot error on training data\n",
    "\n",
    "train_predictions = rf.predict(train_features)\n",
    "train_errors = abs(train_predictions - train_labels)\n",
    "print(\"Average absolute error for training data = \", round(np.mean(train_errors), 2), \"(deaths per 1000)\")\n",
    "\n",
    "fig, ax = plt.subplots()\n",
    "ax.scatter(x = train_predictions, y = train_labels)\n",
    "\n",
    "lims = [\n",
    "    np.min([ax.get_xlim(), ax.get_ylim()]),  # min of both axes\n",
    "    np.max([ax.get_xlim(), ax.get_ylim()]),  # max of both axes\n",
    "]\n",
    "\n",
    "# now plot both limits against eachother\n",
    "ax.plot(lims, lims, 'k-', alpha=0.75, zorder=0)\n",
    "ax.set_aspect('equal')\n",
    "ax.set_xlim(lims)\n",
    "ax.set_ylim(lims)\n",
    "\n",
    "plt.xlabel('Predicted (Training data)', fontsize=15)\n",
    "plt.ylabel('Actual (Training data)', fontsize=15)"
   ]
  },
  {
   "cell_type": "code",
   "execution_count": 344,
   "id": "c1a5e3c3",
   "metadata": {
    "scrolled": true
   },
   "outputs": [
    {
     "name": "stdout",
     "output_type": "stream",
     "text": [
      "Average absolute error =  0.87 (deaths per 1000)\n"
     ]
    },
    {
     "data": {
      "text/plain": [
       "Text(0, 0.5, 'Actual (Test Data)')"
      ]
     },
     "execution_count": 344,
     "metadata": {},
     "output_type": "execute_result"
    },
    {
     "data": {
      "image/png": "[encoded data removed]",
      "text/plain": [
       "<Figure size 432x288 with 1 Axes>"
      ]
     },
     "metadata": {
      "needs_background": "light"
     },
     "output_type": "display_data"
    }
   ],
   "source": [
    "#Plot error on test data\n",
    "\n",
    "fig, ax = plt.subplots()\n",
    "ax.scatter(x = predictions, y = test_labels)\n",
    "\n",
    "lims = [\n",
    "    np.min([ax.get_xlim(), ax.get_ylim()]),  # min of both axes\n",
    "    np.max([ax.get_xlim(), ax.get_ylim()]),  # max of both axes\n",
    "]\n",
    "\n",
    "predictions = rf.predict(test_features)\n",
    "errors = abs(predictions - test_labels)\n",
    "print(\"Average absolute error = \", round(np.mean(errors), 2), \"(deaths per 1000)\")\n",
    "\n",
    "# now plot both limits against eachother\n",
    "ax.plot(lims, lims, 'k-', alpha=0.75, zorder=0)\n",
    "ax.set_aspect('equal')\n",
    "ax.set_xlim(lims)\n",
    "ax.set_ylim(lims)\n",
    "\n",
    "plt.xlabel('Predicted (Test Data)', fontsize=15)\n",
    "plt.ylabel('Actual (Test Data)', fontsize=15)"
   ]
  },
  {
   "cell_type": "markdown",
   "id": "1356514f",
   "metadata": {},
   "source": [
    "# RF Analysis with only 'important' features (i.e., corr > 0.5)"
   ]
  },
  {
   "cell_type": "code",
   "execution_count": 345,
   "id": "5abfe4f7",
   "metadata": {},
   "outputs": [
    {
     "name": "stdout",
     "output_type": "stream",
     "text": [
      "['Latin America(%)', 'Asian(%)', 'No Degree(%)', 'Drove Alone (%)', 'Persons per household', 'Median household income (USD)', 'Black(%)', 'Per capita income (USD)', 'Walked (%)', 'White(%)', 'Moved Since Prev Year(%)', 'Same House Prev Year(%)', 'Post-grad(%)', 'Under 18(%)', 'Asia(%)', 'Median housing value', '18 to 64(%)', 'Some College(%)', 'High School(%)', \"Bachelor's(%)\", 'Mean travel time to work (Minutes)']\n"
     ]
    }
   ],
   "source": [
    "data_input = data.iloc[:,:-4]\n",
    "data_input = data_input.set_index('Zipcode')\n",
    "important_features = list(feature_importance['index'])\n",
    "data_input = data_input[important_features]\n",
    "features = np.array(data_input)\n",
    "feature_list = list(data_input.columns)\n",
    "\n",
    "#print(data_input.head())\n",
    "#print(features[0:10,:])\n",
    "print(feature_list)\n",
    "\n",
    "###Everything after this point should be same as above"
   ]
  },
  {
   "cell_type": "code",
   "execution_count": 346,
   "id": "c591919b",
   "metadata": {},
   "outputs": [
    {
     "data": {
      "text/plain": [
       "array([2.15, 3.14, 3.06, 1.68, 2.86, 0.83, 2.87, 3.03, 3.74, 1.6 , 5.09,\n",
       "       2.98, 3.66, 2.15, 2.64, 1.52, 4.02, 3.37, 4.78, 3.04, 2.55, 0.71,\n",
       "       4.76, 5.25, 2.7 , 1.81, 3.23, 2.74, 2.85, 2.35, 4.22, 1.73, 0.84,\n",
       "       0.39, 2.92, 3.44, 1.61, 2.09, 3.13, 0.62, 2.17, 0.49, 0.62, 1.87,\n",
       "       3.14, 1.24, 2.53, 3.02, 1.07, 1.12, 0.24, 2.78, 3.95, 2.95, 3.61,\n",
       "       1.87, 3.32])"
      ]
     },
     "execution_count": 346,
     "metadata": {},
     "output_type": "execute_result"
    }
   ],
   "source": [
    "labels_deaths = np.array(data['Death Counts(Per 1000)'])\n",
    "labels_deaths"
   ]
  },
  {
   "cell_type": "code",
   "execution_count": 347,
   "id": "9ca177df",
   "metadata": {},
   "outputs": [],
   "source": [
    "from sklearn.model_selection import train_test_split"
   ]
  },
  {
   "cell_type": "code",
   "execution_count": 348,
   "id": "05bd82eb",
   "metadata": {},
   "outputs": [],
   "source": [
    "train_features, test_features, train_labels, test_labels = train_test_split(features, labels_deaths, test_size = 0.33, random_state = 17)"
   ]
  },
  {
   "cell_type": "code",
   "execution_count": 349,
   "id": "cfc9886f",
   "metadata": {},
   "outputs": [
    {
     "name": "stdout",
     "output_type": "stream",
     "text": [
      "Training Features Shape: (38, 21)\n",
      "Training Labels Shape: (38,)\n",
      "Testing Features Shape: (19, 21)\n",
      "Testing Labels Shape: (19,)\n"
     ]
    }
   ],
   "source": [
    "print('Training Features Shape:', train_features.shape)\n",
    "print('Training Labels Shape:', train_labels.shape)\n",
    "print('Testing Features Shape:', test_features.shape)\n",
    "print('Testing Labels Shape:', test_labels.shape)"
   ]
  },
  {
   "cell_type": "code",
   "execution_count": 350,
   "id": "7b13598d",
   "metadata": {
    "scrolled": true
   },
   "outputs": [
    {
     "name": "stdout",
     "output_type": "stream",
     "text": [
      "[2.74 2.74 2.74 2.74 2.74 2.74 2.74 2.74 2.74 2.74 2.74 2.74 2.74 2.74\n",
      " 2.74 2.74 2.74 2.74 2.74 2.74 2.74 2.74 2.74 2.74 2.74 2.74 2.74 2.74\n",
      " 2.74 2.74 2.74 2.74 2.74 2.74 2.74 2.74 2.74 2.74 2.74 2.74 2.74 2.74\n",
      " 2.74 2.74 2.74 2.74 2.74 2.74 2.74 2.74 2.74 2.74 2.74 2.74 2.74 2.74\n",
      " 2.74]\n",
      "[0.59 0.4  0.32 1.06 0.12 1.91 0.13 0.29 1.   1.14 2.35 0.24 0.92 0.59\n",
      " 0.1  1.22 1.28 0.63 2.04 0.3  0.19 2.03 2.02 2.51 0.04 0.93 0.49 0.\n",
      " 0.11 0.39 1.48 1.01 1.9  2.35 0.18 0.7  1.13 0.65 0.39 2.12 0.57 2.25\n",
      " 2.12 0.87 0.4  1.5  0.21 0.28 1.67 1.62 2.5  0.04 1.21 0.21 0.87 0.87\n",
      " 0.58]\n",
      "Average baseline error =  0.9652631578947368 (deaths per 1000)\n"
     ]
    }
   ],
   "source": [
    "median_deaths = np.median(labels_deaths)\n",
    "baseline_pred = np.repeat(median_deaths, len(labels_deaths))\n",
    "print(baseline_pred)\n",
    "baseline_errors = abs(baseline_pred - labels_deaths)\n",
    "print(baseline_errors)\n",
    "\n",
    "print(\"Average baseline error = \", np.mean(baseline_errors), \"(deaths per 1000)\")"
   ]
  },
  {
   "cell_type": "code",
   "execution_count": 351,
   "id": "94513987",
   "metadata": {},
   "outputs": [],
   "source": [
    "from sklearn.ensemble import RandomForestRegressor"
   ]
  },
  {
   "cell_type": "code",
   "execution_count": 352,
   "id": "fa3e5d4d",
   "metadata": {},
   "outputs": [
    {
     "data": {
      "text/plain": [
       "RandomForestRegressor(n_estimators=1000, random_state=17)"
      ]
     },
     "execution_count": 352,
     "metadata": {},
     "output_type": "execute_result"
    }
   ],
   "source": [
    "rf = RandomForestRegressor(n_estimators = 1000, random_state = 17)\n",
    "rf.fit(train_features, train_labels)"
   ]
  },
  {
   "cell_type": "code",
   "execution_count": 353,
   "id": "a6b749d0",
   "metadata": {},
   "outputs": [
    {
     "name": "stdout",
     "output_type": "stream",
     "text": [
      "Average absolute error =  0.91 (deaths per 1000)\n"
     ]
    }
   ],
   "source": [
    "predictions = rf.predict(test_features)\n",
    "errors = abs(predictions - test_labels)\n",
    "print(\"Average absolute error = \", round(np.mean(errors), 2), \"(deaths per 1000)\")"
   ]
  },
  {
   "cell_type": "code",
   "execution_count": 354,
   "id": "ca6d40a5",
   "metadata": {},
   "outputs": [
    {
     "name": "stdout",
     "output_type": "stream",
     "text": [
      "Average absolute error for training data =  0.2 (deaths per 1000)\n"
     ]
    },
    {
     "data": {
      "text/plain": [
       "Text(0, 0.5, 'Actual (Training data)')"
      ]
     },
     "execution_count": 354,
     "metadata": {},
     "output_type": "execute_result"
    },
    {
     "data": {
      "image/png": "[encoded data removed]",
      "text/plain": [
       "<Figure size 432x288 with 1 Axes>"
      ]
     },
     "metadata": {
      "needs_background": "light"
     },
     "output_type": "display_data"
    }
   ],
   "source": [
    "#Compute/plot error on training data\n",
    "\n",
    "train_predictions = rf.predict(train_features)\n",
    "train_errors = abs(train_predictions - train_labels)\n",
    "print(\"Average absolute error for training data = \", round(np.mean(train_errors), 2), \"(deaths per 1000)\")\n",
    "\n",
    "fig, ax = plt.subplots()\n",
    "ax.scatter(x = train_predictions, y = train_labels)\n",
    "\n",
    "lims = [\n",
    "    np.min([ax.get_xlim(), ax.get_ylim()]),  # min of both axes\n",
    "    np.max([ax.get_xlim(), ax.get_ylim()]),  # max of both axes\n",
    "]\n",
    "\n",
    "# now plot both limits against eachother\n",
    "ax.plot(lims, lims, 'k-', alpha=0.75, zorder=0)\n",
    "ax.set_aspect('equal')\n",
    "ax.set_xlim(lims)\n",
    "ax.set_ylim(lims)\n",
    "\n",
    "plt.xlabel('Predicted (Training data)', fontsize=15)\n",
    "plt.ylabel('Actual (Training data)', fontsize=15)"
   ]
  },
  {
   "cell_type": "code",
   "execution_count": 355,
   "id": "454953bc",
   "metadata": {
    "scrolled": true
   },
   "outputs": [
    {
     "name": "stdout",
     "output_type": "stream",
     "text": [
      "Average absolute error =  0.91 (deaths per 1000)\n"
     ]
    },
    {
     "data": {
      "text/plain": [
       "Text(0, 0.5, 'Actual (Test Data)')"
      ]
     },
     "execution_count": 355,
     "metadata": {},
     "output_type": "execute_result"
    },
    {
     "data": {
      "image/png": "[encoded data removed]",
      "text/plain": [
       "<Figure size 432x288 with 1 Axes>"
      ]
     },
     "metadata": {
      "needs_background": "light"
     },
     "output_type": "display_data"
    }
   ],
   "source": [
    "#Plot error on test data\n",
    "\n",
    "fig, ax = plt.subplots()\n",
    "ax.scatter(x = predictions, y = test_labels)\n",
    "\n",
    "lims = [\n",
    "    np.min([ax.get_xlim(), ax.get_ylim()]),  # min of both axes\n",
    "    np.max([ax.get_xlim(), ax.get_ylim()]),  # max of both axes\n",
    "]\n",
    "\n",
    "predictions = rf.predict(test_features)\n",
    "errors = abs(predictions - test_labels)\n",
    "print(\"Average absolute error = \", round(np.mean(errors), 2), \"(deaths per 1000)\")\n",
    "\n",
    "# now plot both limits against eachother\n",
    "ax.plot(lims, lims, 'k-', alpha=0.75, zorder=0)\n",
    "ax.set_aspect('equal')\n",
    "ax.set_xlim(lims)\n",
    "ax.set_ylim(lims)\n",
    "\n",
    "plt.xlabel('Predicted (Test Data)', fontsize=15)\n",
    "plt.ylabel('Actual (Test Data)', fontsize=15)"
   ]
  },
  {
   "cell_type": "markdown",
   "id": "22cfc238",
   "metadata": {},
   "source": [
    "# Hyperparameter tuning"
   ]
  },
  {
   "cell_type": "code",
   "execution_count": 356,
   "id": "3fc6b1e4",
   "metadata": {},
   "outputs": [
    {
     "name": "stdout",
     "output_type": "stream",
     "text": [
      "{'bootstrap': True,\n",
      " 'ccp_alpha': 0.0,\n",
      " 'criterion': 'squared_error',\n",
      " 'max_depth': None,\n",
      " 'max_features': 'auto',\n",
      " 'max_leaf_nodes': None,\n",
      " 'max_samples': None,\n",
      " 'min_impurity_decrease': 0.0,\n",
      " 'min_samples_leaf': 1,\n",
      " 'min_samples_split': 2,\n",
      " 'min_weight_fraction_leaf': 0.0,\n",
      " 'n_estimators': 100,\n",
      " 'n_jobs': None,\n",
      " 'oob_score': False,\n",
      " 'random_state': 17,\n",
      " 'verbose': 0,\n",
      " 'warm_start': False}\n"
     ]
    }
   ],
   "source": [
    "rf = RandomForestRegressor(random_state = 17)\n",
    "from pprint import pprint\n",
    "#Available parameters:\n",
    "pprint(rf.get_params())"
   ]
  },
  {
   "cell_type": "code",
   "execution_count": 203,
   "id": "8ef115d2",
   "metadata": {},
   "outputs": [],
   "source": [
    "from sklearn.model_selection import RandomizedSearchCV"
   ]
  },
  {
   "cell_type": "code",
   "execution_count": 246,
   "id": "af65bec5",
   "metadata": {},
   "outputs": [
    {
     "name": "stdout",
     "output_type": "stream",
     "text": [
      "n_estimators [100, 644, 1188, 1733, 2277, 2822, 3366, 3911, 4455, 5000] \n",
      "\n",
      "max_features ['auto', 'sqrt'] \n",
      "\n",
      "max_depth [5, 6, 8, 10, 12, 14, 16, 18, 20, 22, 24, 26, 28, 30, 32, 34, 36, 37, 39, 41, 43, 45, 47, 49, 51, 53, 55, 57, 59, 61, 63, 65, 67, 68, 70, 72, 74, 76, 78, 80, 82, 84, 86, 88, 90, 92, 94, 96, 98, 100, None] \n",
      "\n",
      "min_samples_split [2, 3, 4, 5, 6, 7, 8, 9, 10, 11] \n",
      "\n",
      "min_samples_leaf [1, 2, 3, 4, 5, 6, 7, 8, 9, 10] \n",
      "\n",
      "bootstrap [True, False] \n",
      "\n"
     ]
    }
   ],
   "source": [
    "n_estimators = [int(x) for x in np.linspace(start = 100, stop = 5000, num = 50)]\n",
    "max_features = ['auto', 'sqrt']\n",
    "max_depth = [int(x) for x in np.linspace(5, 100, num = 50)]\n",
    "max_depth.append(None)\n",
    "min_samples_split = [int(x) for x in np.linspace(2, 11, num = 10)]\n",
    "min_samples_leaf = [int(x) for x in np.linspace(1, 10, num = 10)]\n",
    "bootstrap = [True, False]\n",
    "\n",
    "random_grid = {'n_estimators': n_estimators,\n",
    "               'max_features': max_features,\n",
    "               'max_depth': max_depth,\n",
    "               'min_samples_split': min_samples_split,\n",
    "               'min_samples_leaf': min_samples_leaf,\n",
    "               'bootstrap': bootstrap}\n",
    "\n",
    "for k, v in random_grid.items():\n",
    "    print(k, v, \"\\n\")"
   ]
  },
  {
   "cell_type": "code",
   "execution_count": 222,
   "id": "66d3979c",
   "metadata": {},
   "outputs": [],
   "source": [
    "rf = RandomForestRegressor()\n",
    "from sklearn.model_selection import RepeatedKFold\n",
    "rf_random = RandomizedSearchCV(estimator = rf,\n",
    "                               param_distributions = random_grid,\n",
    "                               n_iter = 100, \n",
    "                               cv = RepeatedKFold(n_splits = 2, n_repeats = 5),\n",
    "                               verbose = 100, random_state = 17, n_jobs = -1)"
   ]
  },
  {
   "cell_type": "code",
   "execution_count": 224,
   "id": "dadf325f",
   "metadata": {},
   "outputs": [
    {
     "name": "stdout",
     "output_type": "stream",
     "text": [
      "Fitting 10 folds for each of 100 candidates, totalling 1000 fits\n",
      "--- 85.82530856132507 seconds ---\n"
     ]
    }
   ],
   "source": [
    "import time\n",
    "start_time = time.time()\n",
    "\n",
    "rf_random.fit(train_features, train_labels)\n",
    "\n",
    "print(\"--- %s seconds ---\" % (time.time() - start_time))\n"
   ]
  },
  {
   "cell_type": "code",
   "execution_count": 259,
   "id": "7374f74e",
   "metadata": {},
   "outputs": [
    {
     "name": "stdout",
     "output_type": "stream",
     "text": [
      "{'bootstrap': True,\n",
      " 'max_depth': 57,\n",
      " 'max_features': 'sqrt',\n",
      " 'min_samples_leaf': 1,\n",
      " 'min_samples_split': 4,\n",
      " 'n_estimators': 737}\n"
     ]
    }
   ],
   "source": [
    "opt1 = rf_random.best_params_\n",
    "\n",
    "pd.DataFrame(rf_random.cv_results_)\n",
    "pprint(opt1)"
   ]
  },
  {
   "cell_type": "code",
   "execution_count": 260,
   "id": "6e4a8a32",
   "metadata": {},
   "outputs": [
    {
     "data": {
      "text/plain": [
       "RandomForestRegressor(max_depth=57, max_features='sqrt', min_samples_split=4,\n",
       "                      n_estimators=737, random_state=17)"
      ]
     },
     "execution_count": 260,
     "metadata": {},
     "output_type": "execute_result"
    }
   ],
   "source": [
    "rf = RandomForestRegressor(n_estimators = 737, random_state = 17, max_depth=57,\n",
    "                          max_features='sqrt', min_samples_leaf=1, min_samples_split=4)\n",
    "rf.fit(train_features, train_labels)"
   ]
  },
  {
   "cell_type": "code",
   "execution_count": 262,
   "id": "9556476f",
   "metadata": {},
   "outputs": [
    {
     "name": "stdout",
     "output_type": "stream",
     "text": [
      "Average absolute error =  0.82 (deaths per 1000)\n"
     ]
    }
   ],
   "source": [
    "predictions = rf.predict(test_features)\n",
    "errors = abs(predictions - test_labels)\n",
    "print(\"Average absolute error = \", round(np.mean(errors), 2), \"(deaths per 1000)\")"
   ]
  },
  {
   "cell_type": "code",
   "execution_count": 263,
   "id": "7e99cbe5",
   "metadata": {},
   "outputs": [
    {
     "name": "stdout",
     "output_type": "stream",
     "text": [
      "Average absolute error for training data =  0.21 (deaths per 1000)\n"
     ]
    },
    {
     "data": {
      "text/plain": [
       "Text(0, 0.5, 'Actual (Training data)')"
      ]
     },
     "execution_count": 263,
     "metadata": {},
     "output_type": "execute_result"
    },
    {
     "data": {
      "image/png": "[encoded data removed]",
      "text/plain": [
       "<Figure size 432x288 with 1 Axes>"
      ]
     },
     "metadata": {
      "needs_background": "light"
     },
     "output_type": "display_data"
    }
   ],
   "source": [
    "train_predictions = rf.predict(train_features)\n",
    "train_errors = abs(train_predictions - train_labels)\n",
    "print(\"Average absolute error for training data = \", round(np.mean(train_errors), 2), \"(deaths per 1000)\")\n",
    "\n",
    "fig, ax = plt.subplots()\n",
    "ax.scatter(x = train_predictions, y = train_labels)\n",
    "\n",
    "lims = [\n",
    "    np.min([ax.get_xlim(), ax.get_ylim()]),  # min of both axes\n",
    "    np.max([ax.get_xlim(), ax.get_ylim()]),  # max of both axes\n",
    "]\n",
    "\n",
    "# now plot both limits against eachother\n",
    "ax.plot(lims, lims, 'k-', alpha=0.75, zorder=0)\n",
    "ax.set_aspect('equal')\n",
    "ax.set_xlim(lims)\n",
    "ax.set_ylim(lims)\n",
    "\n",
    "plt.xlabel('Predicted (Training data)', fontsize=15)\n",
    "plt.ylabel('Actual (Training data)', fontsize=15)"
   ]
  },
  {
   "cell_type": "markdown",
   "id": "37411035",
   "metadata": {},
   "source": [
    "# Feature Selection"
   ]
  },
  {
   "cell_type": "code",
   "execution_count": 293,
   "id": "31c108c8",
   "metadata": {},
   "outputs": [
    {
     "name": "stdout",
     "output_type": "stream",
     "text": [
      "Features selected by SelectFromModel: ['Black(%)' 'Hispanic(%)' 'Drove Alone (%)' 'Number of households'\n",
      " 'Number of housing units' 'Owner Occupied (%)' 'Renter Occupied (%)'\n",
      " 'Asia(%)' 'Latin America(%)']\n",
      "Features selected by forward sequential selection: ['Median age' '65 and over(%)' 'Median household income (USD)'\n",
      " 'Below poverty line(%)' 'Mean travel time to work (Minutes)'\n",
      " 'Public Transit (%)' 'Single (%)' 'Occupied housing (%)'\n",
      " 'Vacant housing (%)' 'Asia(%)']\n",
      "Features selected by backward sequential selection: ['Median age' 'Under 18(%)' 'Per capita income (USD)'\n",
      " 'Below poverty line(%)' 'Occupied housing (%)' 'Vacant housing (%)'\n",
      " 'Owner Occupied (%)' 'Renter Occupied (%)' 'Median housing value'\n",
      " 'Asia(%)']\n"
     ]
    },
    {
     "data": {
      "image/png": "[encoded data removed]",
      "text/plain": [
       "<Figure size 432x288 with 1 Axes>"
      ]
     },
     "metadata": {
      "needs_background": "light"
     },
     "output_type": "display_data"
    }
   ],
   "source": [
    "from sklearn.feature_selection import SequentialFeatureSelector\n",
    "from sklearn.feature_selection import SelectFromModel\n",
    "from sklearn.linear_model import RidgeCV\n",
    "\n",
    "X, y = train_features, train_labels\n",
    "\n",
    "ridge = RidgeCV(alphas=np.logspace(-6, 6, num=5)).fit(X, y)\n",
    "\n",
    "importance = np.abs(ridge.coef_)\n",
    "feature_names = np.array(feature_list)\n",
    "\n",
    "plt.bar(height=importance, x = feature_list)\n",
    "\n",
    "threshold = np.sort(importance)[-10] + 0.0000001\n",
    "sfm = SelectFromModel(ridge, threshold = threshold).fit(X,y)\n",
    "print(f\"Features selected by SelectFromModel: {feature_names[sfm.get_support()]}\")\n",
    "\n",
    "\n",
    "sfs_forward = SequentialFeatureSelector(ridge, n_features_to_select=10, direction = \"forward\").fit(X, y)\n",
    "sfs_backward = SequentialFeatureSelector(ridge, n_features_to_select=10, direction=\"backward\").fit(X, y)\n",
    "\n",
    "print(\n",
    "    \"Features selected by forward sequential selection: \"\n",
    "    f\"{feature_names[sfs_forward.get_support()]}\"\n",
    ")\n",
    "\n",
    "print(\n",
    "    \"Features selected by backward sequential selection: \"\n",
    "    f\"{feature_names[sfs_backward.get_support()]}\"\n",
    ")\n"
   ]
  },
  {
   "cell_type": "markdown",
   "id": "9609acb9",
   "metadata": {},
   "source": [
    "# Dimensional Reduction"
   ]
  },
  {
   "cell_type": "code",
   "execution_count": 298,
   "id": "217db2d2",
   "metadata": {},
   "outputs": [
    {
     "name": "stdout",
     "output_type": "stream",
     "text": [
      "(57, 21)\n"
     ]
    }
   ],
   "source": [
    "data_input = data.iloc[:,:-4]\n",
    "data_input = data_input.set_index('Zipcode')\n",
    "important_features = list(feature_importance['index'])\n",
    "data_input = data_input[important_features]\n",
    "features = np.array(data_input)\n",
    "feature_list = list(data_input.columns)\n",
    "\n",
    "X = data_input.values\n",
    "print(X.shape)\n",
    "\n",
    "from sklearn.preprocessing import StandardScaler\n",
    "\n",
    "scaler = StandardScaler()\n",
    "scaler.fit(X)\n",
    "\n",
    "X_scaled = scaler.transform(X)"
   ]
  },
  {
   "cell_type": "code",
   "execution_count": 301,
   "id": "0a3735fc",
   "metadata": {},
   "outputs": [],
   "source": [
    "from sklearn.decomposition import PCA\n",
    "pca_21 = PCA(random_state = 17)\n",
    "pca_21.fit(X_scaled)\n",
    "X_pca_21 = pca_21.transform(X_scaled)"
   ]
  },
  {
   "cell_type": "code",
   "execution_count": 329,
   "id": "418a34a6",
   "metadata": {},
   "outputs": [
    {
     "name": "stdout",
     "output_type": "stream",
     "text": [
      "78.88034301444262\n",
      "69.36811639403248\n",
      "9.512226620410132\n"
     ]
    },
    {
     "data": {
      "image/png": "[encoded data removed]",
      "text/plain": [
       "<Figure size 432x288 with 1 Axes>"
      ]
     },
     "metadata": {
      "needs_background": "light"
     },
     "output_type": "display_data"
    }
   ],
   "source": [
    "plt.plot(np.cumsum(pca_21.explained_variance_ratio_*100))\n",
    "plt.xlabel('number')\n",
    "plt.ylabel('%explained')\n",
    "\n",
    "print(np.cumsum(pca_2.explained_variance_ratio_*100)[1])\n",
    "print(np.cumsum(pca_2.explained_variance_ratio_*100)[0])\n",
    "print(np.cumsum(pca_2.explained_variance_ratio_*100)[1] - np.cumsum(pca_2.explained_variance_ratio_*100)[0])\n"
   ]
  },
  {
   "cell_type": "code",
   "execution_count": 330,
   "id": "a88317bc",
   "metadata": {},
   "outputs": [
    {
     "data": {
      "text/plain": [
       "Text(0.5, 1.0, 'PCA Analysis of Chicago Zipcodes \\nBased on Sociodemographic Characteristics \\n(Colored by Total COVID-19-Related Deaths per 1,000 People)')"
      ]
     },
     "execution_count": 330,
     "metadata": {},
     "output_type": "execute_result"
    },
    {
     "data": {
      "image/png": "[encoded data removed]",
      "text/plain": [
       "<Figure size 720x504 with 2 Axes>"
      ]
     },
     "metadata": {
      "needs_background": "light"
     },
     "output_type": "display_data"
    }
   ],
   "source": [
    "pca_2 = PCA(n_components=2, random_state=17)\n",
    "pca_2.fit(X_scaled)\n",
    "X_pca_2 = pca_2.transform(X_scaled)\n",
    "\n",
    "pc1 = X_pca_2[:,0]\n",
    "pc2 = X_pca_2[:,1]\n",
    "\n",
    "plt.figure(figsize=(10,7))\n",
    "plt.scatter(x = X_pca_2[:,0], y = X_pca_2[:,1], s = 70, c = labels_deaths, cmap = \"icefire\")\n",
    "\n",
    "sm = plt.cm.ScalarMappable(cmap='icefire',\n",
    "norm = plt.Normalize(vmin = np.min(labels_deaths),\n",
    "                     vmax = np.max(labels_deaths)))\n",
    "sm._A = []\n",
    "cbar = plt.colorbar(sm)\n",
    "\n",
    "plt.xlabel(\"PC 1 (69.4% of Variance)\")\n",
    "plt.ylabel(\"PC 2 (9.5% of Variance)\")\n",
    "plt.title(\"PCA Analysis of Chicago Zipcodes \\nBased on Sociodemographic Characteristics \\n(Colored by Total COVID-19-Related Deaths per 1,000 People)\")"
   ]
  },
  {
   "cell_type": "markdown",
   "id": "57b7a643",
   "metadata": {},
   "source": [
    "# Heatmaps with geopandas"
   ]
  },
  {
   "cell_type": "code",
   "execution_count": 57,
   "id": "936731fa",
   "metadata": {},
   "outputs": [],
   "source": [
    "import geopandas as gpd"
   ]
  },
  {
   "cell_type": "code",
   "execution_count": 113,
   "id": "b8b6ef49",
   "metadata": {},
   "outputs": [
    {
     "data": {
      "text/html": [
       "<div>\n",
       "<style scoped>\n",
       "    .dataframe tbody tr th:only-of-type {\n",
       "        vertical-align: middle;\n",
       "    }\n",
       "\n",
       "    .dataframe tbody tr th {\n",
       "        vertical-align: top;\n",
       "    }\n",
       "\n",
       "    .dataframe thead th {\n",
       "        text-align: right;\n",
       "    }\n",
       "</style>\n",
       "<table border=\"1\" class=\"dataframe\">\n",
       "  <thead>\n",
       "    <tr style=\"text-align: right;\">\n",
       "      <th></th>\n",
       "      <th>objectid</th>\n",
       "      <th>shape_area</th>\n",
       "      <th>shape_len</th>\n",
       "      <th>zip</th>\n",
       "      <th>geometry</th>\n",
       "      <th>Zipcode</th>\n",
       "      <th>Population</th>\n",
       "      <th>Median age</th>\n",
       "      <th>Under 18(%)</th>\n",
       "      <th>18 to 64(%)</th>\n",
       "      <th>...</th>\n",
       "      <th>Europe(%)</th>\n",
       "      <th>Asia(%)</th>\n",
       "      <th>Africa(%)</th>\n",
       "      <th>Oceania(%)</th>\n",
       "      <th>Latin America(%)</th>\n",
       "      <th>North America(%)</th>\n",
       "      <th>Death Counts</th>\n",
       "      <th>Death Counts(Per 1000)</th>\n",
       "      <th>Case Counts</th>\n",
       "      <th>Case Counts(Per 1000)</th>\n",
       "    </tr>\n",
       "  </thead>\n",
       "  <tbody>\n",
       "    <tr>\n",
       "      <th>0</th>\n",
       "      <td>33.0</td>\n",
       "      <td>1.060523e+08</td>\n",
       "      <td>42720.044406</td>\n",
       "      <td>60647</td>\n",
       "      <td>POLYGON ((-87.67762 41.91776, -87.67761 41.917...</td>\n",
       "      <td>60647</td>\n",
       "      <td>85658</td>\n",
       "      <td>32.2</td>\n",
       "      <td>17.56</td>\n",
       "      <td>75.14</td>\n",
       "      <td>...</td>\n",
       "      <td>14.76</td>\n",
       "      <td>14.11</td>\n",
       "      <td>1.67</td>\n",
       "      <td>0.68</td>\n",
       "      <td>66.31</td>\n",
       "      <td>2.47</td>\n",
       "      <td>184</td>\n",
       "      <td>2.15</td>\n",
       "      <td>17196</td>\n",
       "      <td>200.75</td>\n",
       "    </tr>\n",
       "    <tr>\n",
       "      <th>1</th>\n",
       "      <td>34.0</td>\n",
       "      <td>1.274761e+08</td>\n",
       "      <td>48103.782721</td>\n",
       "      <td>60639</td>\n",
       "      <td>POLYGON ((-87.72683 41.92265, -87.72693 41.922...</td>\n",
       "      <td>60639</td>\n",
       "      <td>88515</td>\n",
       "      <td>34.6</td>\n",
       "      <td>26.29</td>\n",
       "      <td>62.24</td>\n",
       "      <td>...</td>\n",
       "      <td>4.69</td>\n",
       "      <td>2.99</td>\n",
       "      <td>0.61</td>\n",
       "      <td>0.00</td>\n",
       "      <td>91.67</td>\n",
       "      <td>0.03</td>\n",
       "      <td>278</td>\n",
       "      <td>3.14</td>\n",
       "      <td>24130</td>\n",
       "      <td>272.61</td>\n",
       "    </tr>\n",
       "    <tr>\n",
       "      <th>2</th>\n",
       "      <td>35.0</td>\n",
       "      <td>4.506904e+07</td>\n",
       "      <td>27288.609612</td>\n",
       "      <td>60707</td>\n",
       "      <td>POLYGON ((-87.78500 41.90915, -87.78531 41.909...</td>\n",
       "      <td>60707</td>\n",
       "      <td>42434</td>\n",
       "      <td>40.0</td>\n",
       "      <td>21.06</td>\n",
       "      <td>63.60</td>\n",
       "      <td>...</td>\n",
       "      <td>42.45</td>\n",
       "      <td>11.93</td>\n",
       "      <td>0.98</td>\n",
       "      <td>0.00</td>\n",
       "      <td>44.29</td>\n",
       "      <td>0.34</td>\n",
       "      <td>130</td>\n",
       "      <td>3.06</td>\n",
       "      <td>4235</td>\n",
       "      <td>99.80</td>\n",
       "    </tr>\n",
       "    <tr>\n",
       "      <th>3</th>\n",
       "      <td>36.0</td>\n",
       "      <td>7.085383e+07</td>\n",
       "      <td>42527.989679</td>\n",
       "      <td>60622</td>\n",
       "      <td>POLYGON ((-87.66707 41.88885, -87.66707 41.888...</td>\n",
       "      <td>60622</td>\n",
       "      <td>52957</td>\n",
       "      <td>32.2</td>\n",
       "      <td>13.41</td>\n",
       "      <td>79.84</td>\n",
       "      <td>...</td>\n",
       "      <td>38.17</td>\n",
       "      <td>19.04</td>\n",
       "      <td>1.60</td>\n",
       "      <td>0.50</td>\n",
       "      <td>38.03</td>\n",
       "      <td>2.65</td>\n",
       "      <td>89</td>\n",
       "      <td>1.68</td>\n",
       "      <td>11074</td>\n",
       "      <td>209.11</td>\n",
       "    </tr>\n",
       "    <tr>\n",
       "      <th>4</th>\n",
       "      <td>37.0</td>\n",
       "      <td>9.903962e+07</td>\n",
       "      <td>47970.140153</td>\n",
       "      <td>60651</td>\n",
       "      <td>POLYGON ((-87.70656 41.89555, -87.70672 41.895...</td>\n",
       "      <td>60651</td>\n",
       "      <td>63679</td>\n",
       "      <td>33.9</td>\n",
       "      <td>26.37</td>\n",
       "      <td>61.38</td>\n",
       "      <td>...</td>\n",
       "      <td>1.55</td>\n",
       "      <td>2.46</td>\n",
       "      <td>0.89</td>\n",
       "      <td>0.00</td>\n",
       "      <td>94.89</td>\n",
       "      <td>0.21</td>\n",
       "      <td>182</td>\n",
       "      <td>2.86</td>\n",
       "      <td>14030</td>\n",
       "      <td>220.32</td>\n",
       "    </tr>\n",
       "  </tbody>\n",
       "</table>\n",
       "<p>5 rows × 59 columns</p>\n",
       "</div>"
      ],
      "text/plain": [
       "   objectid    shape_area     shape_len    zip  \\\n",
       "0      33.0  1.060523e+08  42720.044406  60647   \n",
       "1      34.0  1.274761e+08  48103.782721  60639   \n",
       "2      35.0  4.506904e+07  27288.609612  60707   \n",
       "3      36.0  7.085383e+07  42527.989679  60622   \n",
       "4      37.0  9.903962e+07  47970.140153  60651   \n",
       "\n",
       "                                            geometry  Zipcode  Population  \\\n",
       "0  POLYGON ((-87.67762 41.91776, -87.67761 41.917...    60647       85658   \n",
       "1  POLYGON ((-87.72683 41.92265, -87.72693 41.922...    60639       88515   \n",
       "2  POLYGON ((-87.78500 41.90915, -87.78531 41.909...    60707       42434   \n",
       "3  POLYGON ((-87.66707 41.88885, -87.66707 41.888...    60622       52957   \n",
       "4  POLYGON ((-87.70656 41.89555, -87.70672 41.895...    60651       63679   \n",
       "\n",
       "   Median age  Under 18(%)  18 to 64(%)  ...  Europe(%)  Asia(%)  Africa(%)  \\\n",
       "0        32.2        17.56        75.14  ...      14.76    14.11       1.67   \n",
       "1        34.6        26.29        62.24  ...       4.69     2.99       0.61   \n",
       "2        40.0        21.06        63.60  ...      42.45    11.93       0.98   \n",
       "3        32.2        13.41        79.84  ...      38.17    19.04       1.60   \n",
       "4        33.9        26.37        61.38  ...       1.55     2.46       0.89   \n",
       "\n",
       "   Oceania(%)  Latin America(%)  North America(%)  Death Counts  \\\n",
       "0        0.68             66.31              2.47           184   \n",
       "1        0.00             91.67              0.03           278   \n",
       "2        0.00             44.29              0.34           130   \n",
       "3        0.50             38.03              2.65            89   \n",
       "4        0.00             94.89              0.21           182   \n",
       "\n",
       "   Death Counts(Per 1000)  Case Counts  Case Counts(Per 1000)  \n",
       "0                    2.15        17196                 200.75  \n",
       "1                    3.14        24130                 272.61  \n",
       "2                    3.06         4235                  99.80  \n",
       "3                    1.68        11074                 209.11  \n",
       "4                    2.86        14030                 220.32  \n",
       "\n",
       "[5 rows x 59 columns]"
      ]
     },
     "execution_count": 113,
     "metadata": {},
     "output_type": "execute_result"
    }
   ],
   "source": [
    "filepath = \"geo_export_0f069f65-3738-4d0d-b110-e78d1bab253a.shp\"\n",
    "map_df = gpd.read_file(filepath)\n",
    "\n",
    "data[\"zip\"] = data[\"Zipcode\"].apply(str)\n",
    "map_df_filtered = map_df[map_df[\"zip\"].isin(data[\"zip\"])]\n",
    "\n",
    "\n",
    "#map_df_filtered.head()\n",
    "\n",
    "map_data = map_df_filtered.merge(data, how = \"left\", on = \"zip\")\n"
   ]
  },
  {
   "cell_type": "code",
   "execution_count": 141,
   "id": "75e42992",
   "metadata": {},
   "outputs": [],
   "source": [
    "def plot_heatmap(df, feature, palette, title = \"feature\"):\n",
    "    \n",
    "    \"\"\"\n",
    "    Plots a colored heatmap from geographic data.\n",
    "    \n",
    "    input 'df' should be a GeoPandas dataframe\n",
    "    'feature' is the name of the variable from 'df' that you want to plot\n",
    "    'palette' is a pyplot color palette\n",
    "    'title' is the figure title; by default it is the same as the plotted variable name\n",
    "    \"\"\"\n",
    "    \n",
    "    \n",
    "    fig, ax = plt.subplots(1, figsize = (10,10))\n",
    "    map_data.plot(column = feature, cmap = palette, linewidth = 0.8, ax = ax, edgecolor = \"0.8\")\n",
    "    ax.axis(\"off\")\n",
    "    if title == \"feature\":\n",
    "        ax.set_title(feature)\n",
    "    else:\n",
    "        ax.set_title(title)\n",
    "\n",
    "    sm = plt.cm.ScalarMappable(cmap=palette,\n",
    "    norm = plt.Normalize(vmin = np.min(map_data[feature]),\n",
    "                         vmax = np.max(map_data[feature])))\n",
    "    sm._A = []\n",
    "    cbar = fig.colorbar(sm)"
   ]
  },
  {
   "cell_type": "code",
   "execution_count": 142,
   "id": "326d8106",
   "metadata": {},
   "outputs": [
    {
     "data": {
      "image/png": "[encoded data removed]",
      "text/plain": [
       "<Figure size 720x720 with 2 Axes>"
      ]
     },
     "metadata": {
      "needs_background": "light"
     },
     "output_type": "display_data"
    }
   ],
   "source": [
    "plot_heatmap(map_data, \"Death Counts(Per 1000)\", \"Reds\")"
   ]
  },
  {
   "cell_type": "code",
   "execution_count": 152,
   "id": "8ae5e253",
   "metadata": {},
   "outputs": [
    {
     "data": {
      "image/png": "[encoded data removed]",
      "text/plain": [
       "<Figure size 720x720 with 2 Axes>"
      ]
     },
     "metadata": {
      "needs_background": "light"
     },
     "output_type": "display_data"
    }
   ],
   "source": [
    "plot_heatmap(map_data, \"Case Counts(Per 1000)\", \"Reds\", \"Cases per 1,000 People\")"
   ]
  },
  {
   "cell_type": "code",
   "execution_count": 147,
   "id": "d4b074ee",
   "metadata": {},
   "outputs": [
    {
     "data": {
      "image/png": "[encoded data removed]",
      "text/plain": [
       "<Figure size 720x720 with 2 Axes>"
      ]
     },
     "metadata": {
      "needs_background": "light"
     },
     "output_type": "display_data"
    }
   ],
   "source": [
    "plot_heatmap(map_data, \"Median age\", \"viridis\")"
   ]
  }
 ],
 "metadata": {
  "kernelspec": {
   "display_name": "Python 3 (ipykernel)",
   "language": "python",
   "name": "python3"
  },
  "language_info": {
   "codemirror_mode": {
    "name": "ipython",
    "version": 3
   },
   "file_extension": ".py",
   "mimetype": "text/x-python",
   "name": "python",
   "nbconvert_exporter": "python",
   "pygments_lexer": "ipython3",
   "version": "3.9.7"
  }
 },
 "nbformat": 4,
 "nbformat_minor": 5
}
